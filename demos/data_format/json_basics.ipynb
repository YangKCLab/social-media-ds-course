{
 "cells": [
  {
   "cell_type": "code",
   "execution_count": 46,
   "id": "aa32bce4-60ca-437b-9ccd-b89e3c6fc912",
   "metadata": {},
   "outputs": [],
   "source": [
    "import json"
   ]
  },
  {
   "cell_type": "markdown",
   "id": "5739cae7-e6b6-422f-b5d2-f79317a7914e",
   "metadata": {},
   "source": [
    "# Load JSON"
   ]
  },
  {
   "cell_type": "code",
   "execution_count": 4,
   "id": "38b7a952-a2e2-4da3-9325-5c59f48e3d97",
   "metadata": {},
   "outputs": [
    {
     "data": {
      "text/plain": [
       "{'name': 'Alice Johnson',\n",
       " 'age': 28,\n",
       " 'isStudent': False,\n",
       " 'height': 5.6,\n",
       " 'address': {'street': '123 Main St',\n",
       "  'city': 'New York',\n",
       "  'zipCode': '10001',\n",
       "  'coordinates': {'latitude': 40.7128, 'longitude': -74.006}},\n",
       " 'hobbies': ['reading', 'cycling', 'photography'],\n",
       " 'favoriteColors': ['blue', 'green'],\n",
       " 'spouse': None,\n",
       " 'education': {'degree': 'Master of Science',\n",
       "  'field': 'Computer Science',\n",
       "  'university': 'MIT',\n",
       "  'graduationYear': 2020,\n",
       "  'gpa': 3.85},\n",
       " 'socialMedia': {'twitter': '@alice_codes',\n",
       "  'linkedin': 'linkedin.com/in/alicejohnson',\n",
       "  'github': 'alice-dev'},\n",
       " 'lastLogin': '2024-03-15T14:30:00Z',\n",
       " 'isActive': True}"
      ]
     },
     "execution_count": 4,
     "metadata": {},
     "output_type": "execute_result"
    }
   ],
   "source": [
    "with open(\"sample.json\") as f:\n",
    "    sample_obj = json.load(f)\n",
    "sample_obj"
   ]
  },
  {
   "cell_type": "code",
   "execution_count": 5,
   "id": "dbaba2f0-4d6e-49b7-b8e8-81bc419b1d57",
   "metadata": {},
   "outputs": [
    {
     "data": {
      "text/plain": [
       "{'name': 'Alice Johnson',\n",
       " 'age': 28,\n",
       " 'isStudent': False,\n",
       " 'height': 5.6,\n",
       " 'address': {'street': '123 Main St',\n",
       "  'city': 'New York',\n",
       "  'zipCode': '10001',\n",
       "  'coordinates': {'latitude': 40.7128, 'longitude': -74.006}},\n",
       " 'hobbies': ['reading', 'cycling', 'photography'],\n",
       " 'favoriteColors': ['blue', 'green'],\n",
       " 'spouse': None,\n",
       " 'education': {'degree': 'Master of Science',\n",
       "  'field': 'Computer Science',\n",
       "  'university': 'MIT',\n",
       "  'graduationYear': 2020,\n",
       "  'gpa': 3.85},\n",
       " 'socialMedia': {'twitter': '@alice_codes',\n",
       "  'linkedin': 'linkedin.com/in/alicejohnson',\n",
       "  'github': 'alice-dev'},\n",
       " 'lastLogin': '2024-03-15T14:30:00Z',\n",
       " 'isActive': True}"
      ]
     },
     "execution_count": 5,
     "metadata": {},
     "output_type": "execute_result"
    }
   ],
   "source": [
    "with open(\"sample.json\") as f:\n",
    "    file_content = f.read()\n",
    "    sample_obj = json.loads(file_content)\n",
    "sample_obj"
   ]
  },
  {
   "cell_type": "markdown",
   "id": "7839a9ee-4e50-49d4-8e1c-75695341f566",
   "metadata": {},
   "source": [
    "# Dump JSON"
   ]
  },
  {
   "cell_type": "code",
   "execution_count": 6,
   "id": "ee47a464-ae89-4a9d-a238-7f31ca2ffe96",
   "metadata": {},
   "outputs": [
    {
     "data": {
      "text/plain": [
       "'{\"name\": \"Alice Johnson\", \"age\": 28, \"isStudent\": false, \"height\": 5.6, \"address\": {\"street\": \"123 Main St\", \"city\": \"New York\", \"zipCode\": \"10001\", \"coordinates\": {\"latitude\": 40.7128, \"longitude\": -74.006}}, \"hobbies\": [\"reading\", \"cycling\", \"photography\"], \"favoriteColors\": [\"blue\", \"green\"], \"spouse\": null, \"education\": {\"degree\": \"Master of Science\", \"field\": \"Computer Science\", \"university\": \"MIT\", \"graduationYear\": 2020, \"gpa\": 3.85}, \"socialMedia\": {\"twitter\": \"@alice_codes\", \"linkedin\": \"linkedin.com/in/alicejohnson\", \"github\": \"alice-dev\"}, \"lastLogin\": \"2024-03-15T14:30:00Z\", \"isActive\": true}'"
      ]
     },
     "execution_count": 6,
     "metadata": {},
     "output_type": "execute_result"
    }
   ],
   "source": [
    "json.dumps(sample_obj)"
   ]
  },
  {
   "cell_type": "code",
   "execution_count": 7,
   "id": "be082ca8-a1a0-40be-98e7-c3c072cf07cb",
   "metadata": {},
   "outputs": [
    {
     "data": {
      "text/plain": [
       "'{\\n  \"name\": \"Alice Johnson\",\\n  \"age\": 28,\\n  \"isStudent\": false,\\n  \"height\": 5.6,\\n  \"address\": {\\n    \"street\": \"123 Main St\",\\n    \"city\": \"New York\",\\n    \"zipCode\": \"10001\",\\n    \"coordinates\": {\\n      \"latitude\": 40.7128,\\n      \"longitude\": -74.006\\n    }\\n  },\\n  \"hobbies\": [\\n    \"reading\",\\n    \"cycling\",\\n    \"photography\"\\n  ],\\n  \"favoriteColors\": [\\n    \"blue\",\\n    \"green\"\\n  ],\\n  \"spouse\": null,\\n  \"education\": {\\n    \"degree\": \"Master of Science\",\\n    \"field\": \"Computer Science\",\\n    \"university\": \"MIT\",\\n    \"graduationYear\": 2020,\\n    \"gpa\": 3.85\\n  },\\n  \"socialMedia\": {\\n    \"twitter\": \"@alice_codes\",\\n    \"linkedin\": \"linkedin.com/in/alicejohnson\",\\n    \"github\": \"alice-dev\"\\n  },\\n  \"lastLogin\": \"2024-03-15T14:30:00Z\",\\n  \"isActive\": true\\n}'"
      ]
     },
     "execution_count": 7,
     "metadata": {},
     "output_type": "execute_result"
    }
   ],
   "source": [
    "json.dumps(sample_obj, indent=2)"
   ]
  },
  {
   "cell_type": "code",
   "execution_count": 8,
   "id": "d20e7312-fc40-446a-bec1-1b594a6ea9eb",
   "metadata": {},
   "outputs": [
    {
     "name": "stdout",
     "output_type": "stream",
     "text": [
      "{\n",
      "  \"name\": \"Alice Johnson\",\n",
      "  \"age\": 28,\n",
      "  \"isStudent\": false,\n",
      "  \"height\": 5.6,\n",
      "  \"address\": {\n",
      "    \"street\": \"123 Main St\",\n",
      "    \"city\": \"New York\",\n",
      "    \"zipCode\": \"10001\",\n",
      "    \"coordinates\": {\n",
      "      \"latitude\": 40.7128,\n",
      "      \"longitude\": -74.006\n",
      "    }\n",
      "  },\n",
      "  \"hobbies\": [\n",
      "    \"reading\",\n",
      "    \"cycling\",\n",
      "    \"photography\"\n",
      "  ],\n",
      "  \"favoriteColors\": [\n",
      "    \"blue\",\n",
      "    \"green\"\n",
      "  ],\n",
      "  \"spouse\": null,\n",
      "  \"education\": {\n",
      "    \"degree\": \"Master of Science\",\n",
      "    \"field\": \"Computer Science\",\n",
      "    \"university\": \"MIT\",\n",
      "    \"graduationYear\": 2020,\n",
      "    \"gpa\": 3.85\n",
      "  },\n",
      "  \"socialMedia\": {\n",
      "    \"twitter\": \"@alice_codes\",\n",
      "    \"linkedin\": \"linkedin.com/in/alicejohnson\",\n",
      "    \"github\": \"alice-dev\"\n",
      "  },\n",
      "  \"lastLogin\": \"2024-03-15T14:30:00Z\",\n",
      "  \"isActive\": true\n",
      "}\n"
     ]
    }
   ],
   "source": [
    "print(json.dumps(sample_obj, indent=2))"
   ]
  },
  {
   "cell_type": "code",
   "execution_count": 12,
   "id": "d0933bda-10a7-4cdd-a3c2-23a69dba6a4e",
   "metadata": {},
   "outputs": [],
   "source": [
    "with open(\"write_sample.json\", \"w\") as f:\n",
    "    json_str = json.dumps(sample_obj, indent=2)\n",
    "    f.write(json_str)"
   ]
  },
  {
   "cell_type": "markdown",
   "id": "49ae8b69-26dc-4fd8-958e-581b1a5c30b8",
   "metadata": {},
   "source": [
    "## Encoding"
   ]
  },
  {
   "cell_type": "code",
   "execution_count": 13,
   "id": "fe15b4a3-6033-48c7-914e-f005e5b80aa7",
   "metadata": {},
   "outputs": [],
   "source": [
    "encoding_obj = {\n",
    "    \"japanese\": \"でたらめ\",\n",
    "    \"chinese\": \"你好\"\n",
    "}"
   ]
  },
  {
   "cell_type": "code",
   "execution_count": 10,
   "id": "2b79e86b-098b-4274-8b50-7603e0489a51",
   "metadata": {},
   "outputs": [
    {
     "data": {
      "text/plain": [
       "'{\"japanese\": \"\\\\u3067\\\\u305f\\\\u3089\\\\u3081\", \"chinese\": \"\\\\u4f60\\\\u597d\"}'"
      ]
     },
     "execution_count": 10,
     "metadata": {},
     "output_type": "execute_result"
    }
   ],
   "source": [
    "json.dumps(encoding_obj)"
   ]
  },
  {
   "cell_type": "code",
   "execution_count": 30,
   "id": "eac2f864-d1f2-4362-baf7-26e686ff7483",
   "metadata": {},
   "outputs": [],
   "source": [
    "with open(\"encoding_obj.json\", \"wb\") as f:\n",
    "    json_str = json.dumps(encoding_obj).encode(encoding=\"utf-8\")\n",
    "    f.write(json_str)"
   ]
  },
  {
   "cell_type": "code",
   "execution_count": 31,
   "id": "3057acbd-8979-42cb-8bcb-2d5b9e3f951b",
   "metadata": {},
   "outputs": [],
   "source": [
    "with open(\"encoding_obj.json\", encoding='utf-8') as f:\n",
    "    file_content = f.read()\n",
    "    encoding_obj_new = json.loads(file_content)"
   ]
  },
  {
   "cell_type": "code",
   "execution_count": 32,
   "id": "2749c746-b23c-46ee-aed7-0450826879d0",
   "metadata": {},
   "outputs": [],
   "source": [
    "with open(\"encoding_obj.json\", \"wb\") as f:\n",
    "    json_str = json.dumps(encoding_obj).encode(encoding=\"utf-16\")\n",
    "    f.write(json_str)"
   ]
  },
  {
   "cell_type": "code",
   "execution_count": 33,
   "id": "1bc0e6bd-b28a-4bea-881f-619c6341b92d",
   "metadata": {},
   "outputs": [
    {
     "ename": "UnicodeDecodeError",
     "evalue": "'utf-8' codec can't decode byte 0xff in position 0: invalid start byte",
     "output_type": "error",
     "traceback": [
      "\u001b[31m---------------------------------------------------------------------------\u001b[39m",
      "\u001b[31mUnicodeDecodeError\u001b[39m                        Traceback (most recent call last)",
      "\u001b[36mCell\u001b[39m\u001b[36m \u001b[39m\u001b[32mIn[33]\u001b[39m\u001b[32m, line 2\u001b[39m\n\u001b[32m      1\u001b[39m \u001b[38;5;28;01mwith\u001b[39;00m \u001b[38;5;28mopen\u001b[39m(\u001b[33m\"\u001b[39m\u001b[33mencoding_obj.json\u001b[39m\u001b[33m\"\u001b[39m) \u001b[38;5;28;01mas\u001b[39;00m f:\n\u001b[32m----> \u001b[39m\u001b[32m2\u001b[39m     file_content = \u001b[43mf\u001b[49m\u001b[43m.\u001b[49m\u001b[43mread\u001b[49m\u001b[43m(\u001b[49m\u001b[43m)\u001b[49m\n\u001b[32m      3\u001b[39m     encoding_obj_new = json.loads(file_content)\n",
      "\u001b[36mFile \u001b[39m\u001b[32m<frozen codecs>:322\u001b[39m, in \u001b[36mdecode\u001b[39m\u001b[34m(self, input, final)\u001b[39m\n",
      "\u001b[31mUnicodeDecodeError\u001b[39m: 'utf-8' codec can't decode byte 0xff in position 0: invalid start byte"
     ]
    }
   ],
   "source": [
    "with open(\"encoding_obj.json\") as f:\n",
    "    file_content = f.read()\n",
    "    encoding_obj_new = json.loads(file_content)"
   ]
  },
  {
   "cell_type": "code",
   "execution_count": 34,
   "id": "3e952dff-756e-414b-83b3-c71401c502bd",
   "metadata": {},
   "outputs": [],
   "source": [
    "with open(\"encoding_obj.json\", encoding=\"utf-16\") as f:\n",
    "    file_content = f.read()\n",
    "    encoding_obj_new = json.loads(file_content)"
   ]
  },
  {
   "cell_type": "markdown",
   "id": "debf5542-a6ac-436b-ac59-757e3595ea7b",
   "metadata": {},
   "source": [
    "# ujson"
   ]
  },
  {
   "cell_type": "code",
   "execution_count": 35,
   "id": "785c5304-f796-47ff-bd90-ce6e54d98241",
   "metadata": {},
   "outputs": [],
   "source": [
    "import ujson as json"
   ]
  },
  {
   "cell_type": "markdown",
   "id": "36a85042-4e56-4d45-b6a8-52ef9534a283",
   "metadata": {},
   "source": [
    "# Broken JSON"
   ]
  },
  {
   "cell_type": "code",
   "execution_count": 49,
   "id": "a28cf21d-26de-44c1-a0e4-1151687695a6",
   "metadata": {},
   "outputs": [
    {
     "ename": "JSONDecodeError",
     "evalue": "Expecting value: line 2 column 11 (char 12)",
     "output_type": "error",
     "traceback": [
      "\u001b[31m---------------------------------------------------------------------------\u001b[39m",
      "\u001b[31mJSONDecodeError\u001b[39m                           Traceback (most recent call last)",
      "\u001b[36mCell\u001b[39m\u001b[36m \u001b[39m\u001b[32mIn[49]\u001b[39m\u001b[32m, line 3\u001b[39m\n\u001b[32m      1\u001b[39m \u001b[38;5;28;01mwith\u001b[39;00m \u001b[38;5;28mopen\u001b[39m(\u001b[33m\"\u001b[39m\u001b[33msample_broken.json\u001b[39m\u001b[33m\"\u001b[39m, \u001b[33m\"\u001b[39m\u001b[33mr\u001b[39m\u001b[33m\"\u001b[39m) \u001b[38;5;28;01mas\u001b[39;00m f:\n\u001b[32m      2\u001b[39m     file_content = f.read()\n\u001b[32m----> \u001b[39m\u001b[32m3\u001b[39m     broken_json = \u001b[43mjson\u001b[49m\u001b[43m.\u001b[49m\u001b[43mloads\u001b[49m\u001b[43m(\u001b[49m\u001b[43mfile_content\u001b[49m\u001b[43m)\u001b[49m\n",
      "\u001b[36mFile \u001b[39m\u001b[32m~/.local/share/uv/python/cpython-3.12.10-macos-aarch64-none/lib/python3.12/json/__init__.py:346\u001b[39m, in \u001b[36mloads\u001b[39m\u001b[34m(s, cls, object_hook, parse_float, parse_int, parse_constant, object_pairs_hook, **kw)\u001b[39m\n\u001b[32m    341\u001b[39m     s = s.decode(detect_encoding(s), \u001b[33m'\u001b[39m\u001b[33msurrogatepass\u001b[39m\u001b[33m'\u001b[39m)\n\u001b[32m    343\u001b[39m \u001b[38;5;28;01mif\u001b[39;00m (\u001b[38;5;28mcls\u001b[39m \u001b[38;5;129;01mis\u001b[39;00m \u001b[38;5;28;01mNone\u001b[39;00m \u001b[38;5;129;01mand\u001b[39;00m object_hook \u001b[38;5;129;01mis\u001b[39;00m \u001b[38;5;28;01mNone\u001b[39;00m \u001b[38;5;129;01mand\u001b[39;00m\n\u001b[32m    344\u001b[39m         parse_int \u001b[38;5;129;01mis\u001b[39;00m \u001b[38;5;28;01mNone\u001b[39;00m \u001b[38;5;129;01mand\u001b[39;00m parse_float \u001b[38;5;129;01mis\u001b[39;00m \u001b[38;5;28;01mNone\u001b[39;00m \u001b[38;5;129;01mand\u001b[39;00m\n\u001b[32m    345\u001b[39m         parse_constant \u001b[38;5;129;01mis\u001b[39;00m \u001b[38;5;28;01mNone\u001b[39;00m \u001b[38;5;129;01mand\u001b[39;00m object_pairs_hook \u001b[38;5;129;01mis\u001b[39;00m \u001b[38;5;28;01mNone\u001b[39;00m \u001b[38;5;129;01mand\u001b[39;00m \u001b[38;5;129;01mnot\u001b[39;00m kw):\n\u001b[32m--> \u001b[39m\u001b[32m346\u001b[39m     \u001b[38;5;28;01mreturn\u001b[39;00m \u001b[43m_default_decoder\u001b[49m\u001b[43m.\u001b[49m\u001b[43mdecode\u001b[49m\u001b[43m(\u001b[49m\u001b[43ms\u001b[49m\u001b[43m)\u001b[49m\n\u001b[32m    347\u001b[39m \u001b[38;5;28;01mif\u001b[39;00m \u001b[38;5;28mcls\u001b[39m \u001b[38;5;129;01mis\u001b[39;00m \u001b[38;5;28;01mNone\u001b[39;00m:\n\u001b[32m    348\u001b[39m     \u001b[38;5;28mcls\u001b[39m = JSONDecoder\n",
      "\u001b[36mFile \u001b[39m\u001b[32m~/.local/share/uv/python/cpython-3.12.10-macos-aarch64-none/lib/python3.12/json/decoder.py:338\u001b[39m, in \u001b[36mJSONDecoder.decode\u001b[39m\u001b[34m(self, s, _w)\u001b[39m\n\u001b[32m    333\u001b[39m \u001b[38;5;28;01mdef\u001b[39;00m\u001b[38;5;250m \u001b[39m\u001b[34mdecode\u001b[39m(\u001b[38;5;28mself\u001b[39m, s, _w=WHITESPACE.match):\n\u001b[32m    334\u001b[39m \u001b[38;5;250m    \u001b[39m\u001b[33;03m\"\"\"Return the Python representation of ``s`` (a ``str`` instance\u001b[39;00m\n\u001b[32m    335\u001b[39m \u001b[33;03m    containing a JSON document).\u001b[39;00m\n\u001b[32m    336\u001b[39m \n\u001b[32m    337\u001b[39m \u001b[33;03m    \"\"\"\u001b[39;00m\n\u001b[32m--> \u001b[39m\u001b[32m338\u001b[39m     obj, end = \u001b[38;5;28;43mself\u001b[39;49m\u001b[43m.\u001b[49m\u001b[43mraw_decode\u001b[49m\u001b[43m(\u001b[49m\u001b[43ms\u001b[49m\u001b[43m,\u001b[49m\u001b[43m \u001b[49m\u001b[43midx\u001b[49m\u001b[43m=\u001b[49m\u001b[43m_w\u001b[49m\u001b[43m(\u001b[49m\u001b[43ms\u001b[49m\u001b[43m,\u001b[49m\u001b[43m \u001b[49m\u001b[32;43m0\u001b[39;49m\u001b[43m)\u001b[49m\u001b[43m.\u001b[49m\u001b[43mend\u001b[49m\u001b[43m(\u001b[49m\u001b[43m)\u001b[49m\u001b[43m)\u001b[49m\n\u001b[32m    339\u001b[39m     end = _w(s, end).end()\n\u001b[32m    340\u001b[39m     \u001b[38;5;28;01mif\u001b[39;00m end != \u001b[38;5;28mlen\u001b[39m(s):\n",
      "\u001b[36mFile \u001b[39m\u001b[32m~/.local/share/uv/python/cpython-3.12.10-macos-aarch64-none/lib/python3.12/json/decoder.py:356\u001b[39m, in \u001b[36mJSONDecoder.raw_decode\u001b[39m\u001b[34m(self, s, idx)\u001b[39m\n\u001b[32m    354\u001b[39m     obj, end = \u001b[38;5;28mself\u001b[39m.scan_once(s, idx)\n\u001b[32m    355\u001b[39m \u001b[38;5;28;01mexcept\u001b[39;00m \u001b[38;5;167;01mStopIteration\u001b[39;00m \u001b[38;5;28;01mas\u001b[39;00m err:\n\u001b[32m--> \u001b[39m\u001b[32m356\u001b[39m     \u001b[38;5;28;01mraise\u001b[39;00m JSONDecodeError(\u001b[33m\"\u001b[39m\u001b[33mExpecting value\u001b[39m\u001b[33m\"\u001b[39m, s, err.value) \u001b[38;5;28;01mfrom\u001b[39;00m\u001b[38;5;250m \u001b[39m\u001b[38;5;28;01mNone\u001b[39;00m\n\u001b[32m    357\u001b[39m \u001b[38;5;28;01mreturn\u001b[39;00m obj, end\n",
      "\u001b[31mJSONDecodeError\u001b[39m: Expecting value: line 2 column 11 (char 12)"
     ]
    }
   ],
   "source": [
    "with open(\"sample_broken.json\", \"r\") as f:\n",
    "    file_content = f.read()\n",
    "    broken_json = json.loads(file_content)"
   ]
  },
  {
   "cell_type": "code",
   "execution_count": 50,
   "id": "9da74cac-efcc-4fde-bc58-223c3afbbcf3",
   "metadata": {},
   "outputs": [],
   "source": [
    "from json_repair import repair_json"
   ]
  },
  {
   "cell_type": "code",
   "execution_count": 51,
   "id": "53f81f5c-a71c-4280-b0dc-8a87fbdac1be",
   "metadata": {},
   "outputs": [],
   "source": [
    "with open(\"sample_broken.json\", \"r\") as f:\n",
    "    file_content = f.read()\n",
    "    repaired_json = repair_json(file_content)\n",
    "    repaired_json_obj = json.loads(repaired_json)"
   ]
  },
  {
   "cell_type": "code",
   "execution_count": 52,
   "id": "706ec1cf-0878-4dc5-81f4-5764cc26a5d6",
   "metadata": {},
   "outputs": [
    {
     "data": {
      "text/plain": [
       "{'name': 'Alice Johnson',\n",
       " 'age': 28,\n",
       " 'isStudent': False,\n",
       " 'height': 5.6,\n",
       " 'address': {'street': '123 Main St',\n",
       "  'city': 'New York',\n",
       "  'zipCode': '10001',\n",
       "  'coordinates': {'latitude': 40.7128, 'longitude': -74.006}},\n",
       " 'hobbies': ['reading', 'cycling', 'photography'],\n",
       " 'favoriteColors': ['blue', 'green'],\n",
       " 'spouse': None,\n",
       " 'education': {'degree': 'Master of Science',\n",
       "  'field': 'Computer Science',\n",
       "  'university': 'MIT',\n",
       "  'graduationYear': 2020,\n",
       "  'gpa': 3.85},\n",
       " 'socialMedia': {'twitter': '@alice_codes',\n",
       "  'linkedin': 'linkedin.com/in/alicejohnson',\n",
       "  'github': 'alice-dev'},\n",
       " 'lastLogin': '2024-03-15T14:30:00Z',\n",
       " 'isActive': True}"
      ]
     },
     "execution_count": 52,
     "metadata": {},
     "output_type": "execute_result"
    }
   ],
   "source": [
    "repaired_json_obj"
   ]
  },
  {
   "cell_type": "markdown",
   "id": "e40a2a5e-dee6-49b8-8a93-142a661c6d66",
   "metadata": {},
   "source": [
    "# Pydantic"
   ]
  },
  {
   "cell_type": "code",
   "execution_count": 66,
   "id": "88f1ebcb-0b57-4f37-8f03-bdf940d7ae0d",
   "metadata": {},
   "outputs": [],
   "source": [
    "from pydantic import BaseModel\n",
    "from typing import List, Optional"
   ]
  },
  {
   "cell_type": "code",
   "execution_count": 67,
   "id": "ea95acf9-9522-48de-adb9-c987966150cf",
   "metadata": {},
   "outputs": [],
   "source": [
    "class User(BaseModel):\n",
    "    id: int\n",
    "    name: str\n",
    "    age: Optional[int] = None\n",
    "    tags: List[str] = []     # defaults to empty list"
   ]
  },
  {
   "cell_type": "code",
   "execution_count": 68,
   "id": "1a56c883-f14c-4868-9ab9-c22086279549",
   "metadata": {},
   "outputs": [],
   "source": [
    "raw_data = {\n",
    "    \"id\": 42,\n",
    "    \"name\": \"Alice\",\n",
    "    \"tags\": [\"admin\", \"tester\"]\n",
    "}\n",
    "raw_data_str = json.dumps(raw_data)"
   ]
  },
  {
   "cell_type": "code",
   "execution_count": 69,
   "id": "3e0384f5-fcde-4880-9ae8-efb2451306b1",
   "metadata": {},
   "outputs": [
    {
     "data": {
      "text/plain": [
       "User(id=42, name='Alice', age=None, tags=['admin', 'tester'])"
      ]
     },
     "execution_count": 69,
     "metadata": {},
     "output_type": "execute_result"
    }
   ],
   "source": [
    "User.model_validate(raw_data)"
   ]
  },
  {
   "cell_type": "code",
   "execution_count": 70,
   "id": "4203bbf7-5e29-4942-9a55-edf3f3654644",
   "metadata": {},
   "outputs": [
    {
     "data": {
      "text/plain": [
       "User(id=42, name='Alice', age=None, tags=['admin', 'tester'])"
      ]
     },
     "execution_count": 70,
     "metadata": {},
     "output_type": "execute_result"
    }
   ],
   "source": [
    "User.model_validate_json(raw_data_str)"
   ]
  },
  {
   "cell_type": "code",
   "execution_count": 72,
   "id": "0f992d75-eab0-4815-8506-1e1a63830c32",
   "metadata": {},
   "outputs": [
    {
     "ename": "ValidationError",
     "evalue": "1 validation error for User\ntags\n  Input should be a valid list [type=list_type, input_value='admin', input_type=str]\n    For further information visit https://errors.pydantic.dev/2.11/v/list_type",
     "output_type": "error",
     "traceback": [
      "\u001b[31m---------------------------------------------------------------------------\u001b[39m",
      "\u001b[31mValidationError\u001b[39m                           Traceback (most recent call last)",
      "\u001b[36mCell\u001b[39m\u001b[36m \u001b[39m\u001b[32mIn[72]\u001b[39m\u001b[32m, line 6\u001b[39m\n\u001b[32m      1\u001b[39m raw_data = {\n\u001b[32m      2\u001b[39m     \u001b[33m\"\u001b[39m\u001b[33mid\u001b[39m\u001b[33m\"\u001b[39m: \u001b[32m42\u001b[39m,\n\u001b[32m      3\u001b[39m     \u001b[33m\"\u001b[39m\u001b[33mname\u001b[39m\u001b[33m\"\u001b[39m: \u001b[33m\"\u001b[39m\u001b[33mAlice\u001b[39m\u001b[33m\"\u001b[39m,\n\u001b[32m      4\u001b[39m     \u001b[33m\"\u001b[39m\u001b[33mtags\u001b[39m\u001b[33m\"\u001b[39m: \u001b[33m\"\u001b[39m\u001b[33madmin\u001b[39m\u001b[33m\"\u001b[39m\n\u001b[32m      5\u001b[39m }\n\u001b[32m----> \u001b[39m\u001b[32m6\u001b[39m \u001b[43mUser\u001b[49m\u001b[43m.\u001b[49m\u001b[43mmodel_validate\u001b[49m\u001b[43m(\u001b[49m\u001b[43mraw_data\u001b[49m\u001b[43m)\u001b[49m\n",
      "\u001b[36mFile \u001b[39m\u001b[32m~/working/teaching/social-media-ds-course/.venv/lib/python3.12/site-packages/pydantic/main.py:705\u001b[39m, in \u001b[36mBaseModel.model_validate\u001b[39m\u001b[34m(cls, obj, strict, from_attributes, context, by_alias, by_name)\u001b[39m\n\u001b[32m    699\u001b[39m \u001b[38;5;28;01mif\u001b[39;00m by_alias \u001b[38;5;129;01mis\u001b[39;00m \u001b[38;5;28;01mFalse\u001b[39;00m \u001b[38;5;129;01mand\u001b[39;00m by_name \u001b[38;5;129;01mis\u001b[39;00m \u001b[38;5;129;01mnot\u001b[39;00m \u001b[38;5;28;01mTrue\u001b[39;00m:\n\u001b[32m    700\u001b[39m     \u001b[38;5;28;01mraise\u001b[39;00m PydanticUserError(\n\u001b[32m    701\u001b[39m         \u001b[33m'\u001b[39m\u001b[33mAt least one of `by_alias` or `by_name` must be set to True.\u001b[39m\u001b[33m'\u001b[39m,\n\u001b[32m    702\u001b[39m         code=\u001b[33m'\u001b[39m\u001b[33mvalidate-by-alias-and-name-false\u001b[39m\u001b[33m'\u001b[39m,\n\u001b[32m    703\u001b[39m     )\n\u001b[32m--> \u001b[39m\u001b[32m705\u001b[39m \u001b[38;5;28;01mreturn\u001b[39;00m \u001b[38;5;28;43mcls\u001b[39;49m\u001b[43m.\u001b[49m\u001b[43m__pydantic_validator__\u001b[49m\u001b[43m.\u001b[49m\u001b[43mvalidate_python\u001b[49m\u001b[43m(\u001b[49m\n\u001b[32m    706\u001b[39m \u001b[43m    \u001b[49m\u001b[43mobj\u001b[49m\u001b[43m,\u001b[49m\u001b[43m \u001b[49m\u001b[43mstrict\u001b[49m\u001b[43m=\u001b[49m\u001b[43mstrict\u001b[49m\u001b[43m,\u001b[49m\u001b[43m \u001b[49m\u001b[43mfrom_attributes\u001b[49m\u001b[43m=\u001b[49m\u001b[43mfrom_attributes\u001b[49m\u001b[43m,\u001b[49m\u001b[43m \u001b[49m\u001b[43mcontext\u001b[49m\u001b[43m=\u001b[49m\u001b[43mcontext\u001b[49m\u001b[43m,\u001b[49m\u001b[43m \u001b[49m\u001b[43mby_alias\u001b[49m\u001b[43m=\u001b[49m\u001b[43mby_alias\u001b[49m\u001b[43m,\u001b[49m\u001b[43m \u001b[49m\u001b[43mby_name\u001b[49m\u001b[43m=\u001b[49m\u001b[43mby_name\u001b[49m\n\u001b[32m    707\u001b[39m \u001b[43m\u001b[49m\u001b[43m)\u001b[49m\n",
      "\u001b[31mValidationError\u001b[39m: 1 validation error for User\ntags\n  Input should be a valid list [type=list_type, input_value='admin', input_type=str]\n    For further information visit https://errors.pydantic.dev/2.11/v/list_type"
     ]
    }
   ],
   "source": [
    "raw_data = {\n",
    "    \"id\": 42,\n",
    "    \"name\": \"Alice\",\n",
    "    \"tags\": \"admin\"\n",
    "}\n",
    "User.model_validate(raw_data)"
   ]
  },
  {
   "cell_type": "markdown",
   "id": "c0491472-f125-4179-9864-c44a6f0e7574",
   "metadata": {},
   "source": [
    "# JSONL"
   ]
  },
  {
   "cell_type": "code",
   "execution_count": 73,
   "id": "ea67e324-3b84-4aff-b1bc-fc10bb5aa4dd",
   "metadata": {},
   "outputs": [],
   "source": [
    "list_of_objs = [\n",
    "    {\"id\": 1, \"name\": \"Alice\"},\n",
    "    {\"id\": 2, \"name\": \"John\"},\n",
    "    {\"id\": 3, \"name\": \"Joe\"}\n",
    "]"
   ]
  },
  {
   "cell_type": "code",
   "execution_count": 75,
   "id": "723c6572-85bd-4252-bee5-a86ca38f23b5",
   "metadata": {},
   "outputs": [],
   "source": [
    "with open(\"list_of_objs.jsonl\", \"w\") as f:\n",
    "    for obj in list_of_objs:\n",
    "        obj_str = f\"{json.dumps(obj)}\\n\"\n",
    "        f.write(obj_str)"
   ]
  },
  {
   "cell_type": "code",
   "execution_count": 76,
   "id": "49321625-e2a5-4c40-b64f-bd9777a7ce4a",
   "metadata": {},
   "outputs": [],
   "source": [
    "obj_list = []\n",
    "with open(\"list_of_objs.jsonl\") as f:\n",
    "    for line in f:\n",
    "        obj = json.loads(line)\n",
    "        obj_list.append(obj)"
   ]
  },
  {
   "cell_type": "code",
   "execution_count": 77,
   "id": "335551ea-d0e6-4a82-b4fd-c8a7f83f9ba2",
   "metadata": {},
   "outputs": [
    {
     "data": {
      "text/plain": [
       "[{'id': 1, 'name': 'Alice'},\n",
       " {'id': 2, 'name': 'John'},\n",
       " {'id': 3, 'name': 'Joe'}]"
      ]
     },
     "execution_count": 77,
     "metadata": {},
     "output_type": "execute_result"
    }
   ],
   "source": [
    "obj_list"
   ]
  },
  {
   "cell_type": "markdown",
   "id": "60ded3d3-db95-412d-a5ed-b05d5521694b",
   "metadata": {},
   "source": [
    "# JSON.gz"
   ]
  },
  {
   "cell_type": "code",
   "execution_count": 85,
   "id": "39336119-fdd5-46c1-9b48-3f4e575ab6bb",
   "metadata": {},
   "outputs": [],
   "source": [
    "import gzip"
   ]
  },
  {
   "cell_type": "code",
   "execution_count": 86,
   "id": "438a9eb1-dc59-4c4c-af39-c93be7dda106",
   "metadata": {},
   "outputs": [],
   "source": [
    "with gzip.open(\"sample.json.gz\", \"rb\") as f:\n",
    "    obj = json.load(f)"
   ]
  },
  {
   "cell_type": "code",
   "execution_count": 90,
   "id": "dba30644-a998-4fa5-aac0-59b4f3aff06a",
   "metadata": {},
   "outputs": [],
   "source": [
    "with gzip.open(\"list_of_objs.jsonl.gz\", \"wb\") as f:\n",
    "    for obj in list_of_objs:\n",
    "        obj_str = f\"{json.dumps(obj)}\\n\".encode(\"utf-8\")\n",
    "        f.write(obj_str)"
   ]
  },
  {
   "cell_type": "code",
   "execution_count": null,
   "id": "dfd36484-cbfa-4e12-9cbb-94c7de7d9887",
   "metadata": {},
   "outputs": [],
   "source": []
  }
 ],
 "metadata": {
  "kernelspec": {
   "display_name": "Python 3 (ipykernel)",
   "language": "python",
   "name": "python3"
  },
  "language_info": {
   "codemirror_mode": {
    "name": "ipython",
    "version": 3
   },
   "file_extension": ".py",
   "mimetype": "text/x-python",
   "name": "python",
   "nbconvert_exporter": "python",
   "pygments_lexer": "ipython3",
   "version": "3.12.10"
  }
 },
 "nbformat": 4,
 "nbformat_minor": 5
}
