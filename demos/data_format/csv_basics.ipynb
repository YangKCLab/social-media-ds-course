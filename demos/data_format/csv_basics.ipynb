{
 "cells": [
  {
   "cell_type": "markdown",
   "id": "1e43d29f-aff1-4579-abec-924d637f812b",
   "metadata": {},
   "source": [
    "# Load csv file with pure Python"
   ]
  },
  {
   "cell_type": "code",
   "execution_count": 6,
   "id": "6f72b350-7fd9-4618-8cec-2878a45f8c2c",
   "metadata": {},
   "outputs": [],
   "source": [
    "csv_content = []\n",
    "with open(\"sample.csv\") as f:\n",
    "    for line in f:\n",
    "        line_components = line.strip().split(\",\")\n",
    "        csv_content.append(line_components)"
   ]
  },
  {
   "cell_type": "code",
   "execution_count": 7,
   "id": "a171f581-699b-4cc6-9926-96eee1ef383b",
   "metadata": {},
   "outputs": [
    {
     "data": {
      "text/plain": [
       "[['name', 'age', 'city', 'occupation', 'salary'],\n",
       " ['Alice Johnson', '28', 'New York', 'Software Engineer', '85000'],\n",
       " ['Bob Smith', '34', 'San Francisco', 'Data Scientist', '95000'],\n",
       " ['Carol Davis', '29', 'Boston', 'Product Manager', '75000'],\n",
       " ['David Wilson', '31', 'Seattle', 'UX Designer', '70000'],\n",
       " ['Eva Brown', '26', 'Austin', 'Marketing Specialist', '60000']]"
      ]
     },
     "execution_count": 7,
     "metadata": {},
     "output_type": "execute_result"
    }
   ],
   "source": [
    "csv_content"
   ]
  },
  {
   "cell_type": "markdown",
   "id": "a0cc04ac-3604-4b9d-a538-cc3baa34afd1",
   "metadata": {},
   "source": [
    "# Pandas basics"
   ]
  },
  {
   "cell_type": "code",
   "execution_count": 8,
   "id": "f963438a-eea4-4d43-974c-3f85ca1a96fc",
   "metadata": {},
   "outputs": [],
   "source": [
    "import pandas as pd"
   ]
  },
  {
   "cell_type": "code",
   "execution_count": 9,
   "id": "8647592e-912a-4ee7-bba2-5ad322d4772d",
   "metadata": {},
   "outputs": [],
   "source": [
    "csv_df = pd.read_csv(\"sample.csv\")"
   ]
  },
  {
   "cell_type": "code",
   "execution_count": 10,
   "id": "90f96a27-79a4-4c0f-9372-d7fcaf585410",
   "metadata": {},
   "outputs": [
    {
     "data": {
      "text/html": [
       "<div>\n",
       "<style scoped>\n",
       "    .dataframe tbody tr th:only-of-type {\n",
       "        vertical-align: middle;\n",
       "    }\n",
       "\n",
       "    .dataframe tbody tr th {\n",
       "        vertical-align: top;\n",
       "    }\n",
       "\n",
       "    .dataframe thead th {\n",
       "        text-align: right;\n",
       "    }\n",
       "</style>\n",
       "<table border=\"1\" class=\"dataframe\">\n",
       "  <thead>\n",
       "    <tr style=\"text-align: right;\">\n",
       "      <th></th>\n",
       "      <th>name</th>\n",
       "      <th>age</th>\n",
       "      <th>city</th>\n",
       "      <th>occupation</th>\n",
       "      <th>salary</th>\n",
       "    </tr>\n",
       "  </thead>\n",
       "  <tbody>\n",
       "    <tr>\n",
       "      <th>0</th>\n",
       "      <td>Alice Johnson</td>\n",
       "      <td>28</td>\n",
       "      <td>New York</td>\n",
       "      <td>Software Engineer</td>\n",
       "      <td>85000</td>\n",
       "    </tr>\n",
       "    <tr>\n",
       "      <th>1</th>\n",
       "      <td>Bob Smith</td>\n",
       "      <td>34</td>\n",
       "      <td>San Francisco</td>\n",
       "      <td>Data Scientist</td>\n",
       "      <td>95000</td>\n",
       "    </tr>\n",
       "    <tr>\n",
       "      <th>2</th>\n",
       "      <td>Carol Davis</td>\n",
       "      <td>29</td>\n",
       "      <td>Boston</td>\n",
       "      <td>Product Manager</td>\n",
       "      <td>75000</td>\n",
       "    </tr>\n",
       "    <tr>\n",
       "      <th>3</th>\n",
       "      <td>David Wilson</td>\n",
       "      <td>31</td>\n",
       "      <td>Seattle</td>\n",
       "      <td>UX Designer</td>\n",
       "      <td>70000</td>\n",
       "    </tr>\n",
       "    <tr>\n",
       "      <th>4</th>\n",
       "      <td>Eva Brown</td>\n",
       "      <td>26</td>\n",
       "      <td>Austin</td>\n",
       "      <td>Marketing Specialist</td>\n",
       "      <td>60000</td>\n",
       "    </tr>\n",
       "  </tbody>\n",
       "</table>\n",
       "</div>"
      ],
      "text/plain": [
       "            name  age           city            occupation  salary\n",
       "0  Alice Johnson   28       New York     Software Engineer   85000\n",
       "1      Bob Smith   34  San Francisco        Data Scientist   95000\n",
       "2    Carol Davis   29         Boston       Product Manager   75000\n",
       "3   David Wilson   31        Seattle           UX Designer   70000\n",
       "4      Eva Brown   26         Austin  Marketing Specialist   60000"
      ]
     },
     "execution_count": 10,
     "metadata": {},
     "output_type": "execute_result"
    }
   ],
   "source": [
    "csv_df"
   ]
  },
  {
   "cell_type": "code",
   "execution_count": 11,
   "id": "264cbd93-5d78-4101-9d3d-610263d59f94",
   "metadata": {},
   "outputs": [
    {
     "data": {
      "text/plain": [
       "0    Alice Johnson\n",
       "1        Bob Smith\n",
       "2      Carol Davis\n",
       "3     David Wilson\n",
       "4        Eva Brown\n",
       "Name: name, dtype: object"
      ]
     },
     "execution_count": 11,
     "metadata": {},
     "output_type": "execute_result"
    }
   ],
   "source": [
    "csv_df['name']"
   ]
  },
  {
   "cell_type": "code",
   "execution_count": 13,
   "id": "034280ac-895b-4bfc-825b-f21f1f8575b6",
   "metadata": {},
   "outputs": [
    {
     "data": {
      "text/plain": [
       "0    28\n",
       "1    34\n",
       "2    29\n",
       "3    31\n",
       "4    26\n",
       "Name: age, dtype: int64"
      ]
     },
     "execution_count": 13,
     "metadata": {},
     "output_type": "execute_result"
    }
   ],
   "source": [
    "csv_df['age']"
   ]
  },
  {
   "cell_type": "markdown",
   "id": "b1ed80a9-920f-4350-8867-76a181b0a010",
   "metadata": {},
   "source": [
    "# Other separators"
   ]
  },
  {
   "cell_type": "code",
   "execution_count": 33,
   "id": "ae2a7975-b7a9-46fd-bcbc-f9d549383b22",
   "metadata": {},
   "outputs": [
    {
     "data": {
      "text/html": [
       "<div>\n",
       "<style scoped>\n",
       "    .dataframe tbody tr th:only-of-type {\n",
       "        vertical-align: middle;\n",
       "    }\n",
       "\n",
       "    .dataframe tbody tr th {\n",
       "        vertical-align: top;\n",
       "    }\n",
       "\n",
       "    .dataframe thead th {\n",
       "        text-align: right;\n",
       "    }\n",
       "</style>\n",
       "<table border=\"1\" class=\"dataframe\">\n",
       "  <thead>\n",
       "    <tr style=\"text-align: right;\">\n",
       "      <th></th>\n",
       "      <th>name</th>\n",
       "      <th>age</th>\n",
       "      <th>city</th>\n",
       "      <th>occupation</th>\n",
       "      <th>salary</th>\n",
       "    </tr>\n",
       "  </thead>\n",
       "  <tbody>\n",
       "    <tr>\n",
       "      <th>Alice Johnson</th>\n",
       "      <td>28</td>\n",
       "      <td>New York</td>\n",
       "      <td>Software Engineer</td>\n",
       "      <td>Data Scientist</td>\n",
       "      <td>85000.0</td>\n",
       "    </tr>\n",
       "    <tr>\n",
       "      <th>Bob Smith</th>\n",
       "      <td>34</td>\n",
       "      <td>San Francisco</td>\n",
       "      <td>Data Scientist</td>\n",
       "      <td>95000</td>\n",
       "      <td>NaN</td>\n",
       "    </tr>\n",
       "    <tr>\n",
       "      <th>Davis</th>\n",
       "      <td>Carol</td>\n",
       "      <td>29</td>\n",
       "      <td>Boston</td>\n",
       "      <td>Product Manager</td>\n",
       "      <td>75000.0</td>\n",
       "    </tr>\n",
       "    <tr>\n",
       "      <th>David Wilson</th>\n",
       "      <td>31</td>\n",
       "      <td>Seattle</td>\n",
       "      <td>UX Designer</td>\n",
       "      <td>70000</td>\n",
       "      <td>NaN</td>\n",
       "    </tr>\n",
       "    <tr>\n",
       "      <th>Eva Brown</th>\n",
       "      <td>26</td>\n",
       "      <td>Austin</td>\n",
       "      <td>Marketing Specialist</td>\n",
       "      <td>60000</td>\n",
       "      <td>NaN</td>\n",
       "    </tr>\n",
       "  </tbody>\n",
       "</table>\n",
       "</div>"
      ],
      "text/plain": [
       "                 name            age                  city       occupation  \\\n",
       "Alice Johnson      28       New York     Software Engineer   Data Scientist   \n",
       "Bob Smith          34  San Francisco        Data Scientist            95000   \n",
       "Davis           Carol             29                Boston  Product Manager   \n",
       "David Wilson       31        Seattle           UX Designer            70000   \n",
       "Eva Brown          26         Austin  Marketing Specialist            60000   \n",
       "\n",
       "                salary  \n",
       "Alice Johnson  85000.0  \n",
       "Bob Smith          NaN  \n",
       "Davis          75000.0  \n",
       "David Wilson       NaN  \n",
       "Eva Brown          NaN  "
      ]
     },
     "execution_count": 33,
     "metadata": {},
     "output_type": "execute_result"
    }
   ],
   "source": [
    "pd.read_csv(\"sample_broken.csv\")"
   ]
  },
  {
   "cell_type": "code",
   "execution_count": 26,
   "id": "32373436-9904-4457-9a77-2a57e6ede4f5",
   "metadata": {},
   "outputs": [],
   "source": [
    "csv_df.to_csv(\"sample_pipe.csv\", sep=\"|\", index=None)"
   ]
  },
  {
   "cell_type": "code",
   "execution_count": 27,
   "id": "b6f1b96e-1ef8-4913-87a9-e3c546bd0606",
   "metadata": {},
   "outputs": [
    {
     "data": {
      "text/html": [
       "<div>\n",
       "<style scoped>\n",
       "    .dataframe tbody tr th:only-of-type {\n",
       "        vertical-align: middle;\n",
       "    }\n",
       "\n",
       "    .dataframe tbody tr th {\n",
       "        vertical-align: top;\n",
       "    }\n",
       "\n",
       "    .dataframe thead th {\n",
       "        text-align: right;\n",
       "    }\n",
       "</style>\n",
       "<table border=\"1\" class=\"dataframe\">\n",
       "  <thead>\n",
       "    <tr style=\"text-align: right;\">\n",
       "      <th></th>\n",
       "      <th>name|age|city|occupation|salary</th>\n",
       "    </tr>\n",
       "  </thead>\n",
       "  <tbody>\n",
       "    <tr>\n",
       "      <th>0</th>\n",
       "      <td>Alice Johnson|28|New York|Software Engineer|85000</td>\n",
       "    </tr>\n",
       "    <tr>\n",
       "      <th>1</th>\n",
       "      <td>Bob Smith|34|San Francisco|Data Scientist|95000</td>\n",
       "    </tr>\n",
       "    <tr>\n",
       "      <th>2</th>\n",
       "      <td>Carol Davis|29|Boston|Product Manager|75000</td>\n",
       "    </tr>\n",
       "    <tr>\n",
       "      <th>3</th>\n",
       "      <td>David Wilson|31|Seattle|UX Designer|70000</td>\n",
       "    </tr>\n",
       "    <tr>\n",
       "      <th>4</th>\n",
       "      <td>Eva Brown|26|Austin|Marketing Specialist|60000</td>\n",
       "    </tr>\n",
       "  </tbody>\n",
       "</table>\n",
       "</div>"
      ],
      "text/plain": [
       "                     name|age|city|occupation|salary\n",
       "0  Alice Johnson|28|New York|Software Engineer|85000\n",
       "1    Bob Smith|34|San Francisco|Data Scientist|95000\n",
       "2        Carol Davis|29|Boston|Product Manager|75000\n",
       "3          David Wilson|31|Seattle|UX Designer|70000\n",
       "4     Eva Brown|26|Austin|Marketing Specialist|60000"
      ]
     },
     "execution_count": 27,
     "metadata": {},
     "output_type": "execute_result"
    }
   ],
   "source": [
    "pd.read_csv(\"sample_pipe.csv\")"
   ]
  },
  {
   "cell_type": "code",
   "execution_count": 28,
   "id": "77e2bc2b-bc16-4969-899f-4c8a0a7c9e1a",
   "metadata": {},
   "outputs": [
    {
     "data": {
      "text/html": [
       "<div>\n",
       "<style scoped>\n",
       "    .dataframe tbody tr th:only-of-type {\n",
       "        vertical-align: middle;\n",
       "    }\n",
       "\n",
       "    .dataframe tbody tr th {\n",
       "        vertical-align: top;\n",
       "    }\n",
       "\n",
       "    .dataframe thead th {\n",
       "        text-align: right;\n",
       "    }\n",
       "</style>\n",
       "<table border=\"1\" class=\"dataframe\">\n",
       "  <thead>\n",
       "    <tr style=\"text-align: right;\">\n",
       "      <th></th>\n",
       "      <th>name</th>\n",
       "      <th>age</th>\n",
       "      <th>city</th>\n",
       "      <th>occupation</th>\n",
       "      <th>salary</th>\n",
       "    </tr>\n",
       "  </thead>\n",
       "  <tbody>\n",
       "    <tr>\n",
       "      <th>0</th>\n",
       "      <td>Alice Johnson</td>\n",
       "      <td>28</td>\n",
       "      <td>New York</td>\n",
       "      <td>Software Engineer</td>\n",
       "      <td>85000</td>\n",
       "    </tr>\n",
       "    <tr>\n",
       "      <th>1</th>\n",
       "      <td>Bob Smith</td>\n",
       "      <td>34</td>\n",
       "      <td>San Francisco</td>\n",
       "      <td>Data Scientist</td>\n",
       "      <td>95000</td>\n",
       "    </tr>\n",
       "    <tr>\n",
       "      <th>2</th>\n",
       "      <td>Carol Davis</td>\n",
       "      <td>29</td>\n",
       "      <td>Boston</td>\n",
       "      <td>Product Manager</td>\n",
       "      <td>75000</td>\n",
       "    </tr>\n",
       "    <tr>\n",
       "      <th>3</th>\n",
       "      <td>David Wilson</td>\n",
       "      <td>31</td>\n",
       "      <td>Seattle</td>\n",
       "      <td>UX Designer</td>\n",
       "      <td>70000</td>\n",
       "    </tr>\n",
       "    <tr>\n",
       "      <th>4</th>\n",
       "      <td>Eva Brown</td>\n",
       "      <td>26</td>\n",
       "      <td>Austin</td>\n",
       "      <td>Marketing Specialist</td>\n",
       "      <td>60000</td>\n",
       "    </tr>\n",
       "  </tbody>\n",
       "</table>\n",
       "</div>"
      ],
      "text/plain": [
       "            name  age           city            occupation  salary\n",
       "0  Alice Johnson   28       New York     Software Engineer   85000\n",
       "1      Bob Smith   34  San Francisco        Data Scientist   95000\n",
       "2    Carol Davis   29         Boston       Product Manager   75000\n",
       "3   David Wilson   31        Seattle           UX Designer   70000\n",
       "4      Eva Brown   26         Austin  Marketing Specialist   60000"
      ]
     },
     "execution_count": 28,
     "metadata": {},
     "output_type": "execute_result"
    }
   ],
   "source": [
    "pd.read_csv(\"sample_pipe.csv\", sep=\"|\")"
   ]
  },
  {
   "cell_type": "code",
   "execution_count": 29,
   "id": "ca93571f-629b-4dca-b367-7c726bb73d58",
   "metadata": {},
   "outputs": [],
   "source": [
    "csv_df.to_csv(\"sample_t.tsv\", sep='\\t', index=None)"
   ]
  },
  {
   "cell_type": "code",
   "execution_count": 32,
   "id": "789f4d0b-426d-4d1e-9cb8-d3bf51162c91",
   "metadata": {},
   "outputs": [
    {
     "data": {
      "text/html": [
       "<div>\n",
       "<style scoped>\n",
       "    .dataframe tbody tr th:only-of-type {\n",
       "        vertical-align: middle;\n",
       "    }\n",
       "\n",
       "    .dataframe tbody tr th {\n",
       "        vertical-align: top;\n",
       "    }\n",
       "\n",
       "    .dataframe thead th {\n",
       "        text-align: right;\n",
       "    }\n",
       "</style>\n",
       "<table border=\"1\" class=\"dataframe\">\n",
       "  <thead>\n",
       "    <tr style=\"text-align: right;\">\n",
       "      <th></th>\n",
       "      <th>name\\tage\\tcity\\toccupation\\tsalary</th>\n",
       "    </tr>\n",
       "  </thead>\n",
       "  <tbody>\n",
       "    <tr>\n",
       "      <th>0</th>\n",
       "      <td>Alice Johnson\\t28\\tNew York\\tSoftware Engineer...</td>\n",
       "    </tr>\n",
       "    <tr>\n",
       "      <th>1</th>\n",
       "      <td>Bob Smith\\t34\\tSan Francisco\\tData Scientist\\t...</td>\n",
       "    </tr>\n",
       "    <tr>\n",
       "      <th>2</th>\n",
       "      <td>Carol Davis\\t29\\tBoston\\tProduct Manager\\t75000</td>\n",
       "    </tr>\n",
       "    <tr>\n",
       "      <th>3</th>\n",
       "      <td>David Wilson\\t31\\tSeattle\\tUX Designer\\t70000</td>\n",
       "    </tr>\n",
       "    <tr>\n",
       "      <th>4</th>\n",
       "      <td>Eva Brown\\t26\\tAustin\\tMarketing Specialist\\t6...</td>\n",
       "    </tr>\n",
       "  </tbody>\n",
       "</table>\n",
       "</div>"
      ],
      "text/plain": [
       "                 name\\tage\\tcity\\toccupation\\tsalary\n",
       "0  Alice Johnson\\t28\\tNew York\\tSoftware Engineer...\n",
       "1  Bob Smith\\t34\\tSan Francisco\\tData Scientist\\t...\n",
       "2    Carol Davis\\t29\\tBoston\\tProduct Manager\\t75000\n",
       "3      David Wilson\\t31\\tSeattle\\tUX Designer\\t70000\n",
       "4  Eva Brown\\t26\\tAustin\\tMarketing Specialist\\t6..."
      ]
     },
     "execution_count": 32,
     "metadata": {},
     "output_type": "execute_result"
    }
   ],
   "source": [
    "pd.read_csv(\"sample_t.tsv\")"
   ]
  },
  {
   "cell_type": "code",
   "execution_count": 34,
   "id": "615b3990-47e1-4322-8c5a-d8e39d5132a4",
   "metadata": {},
   "outputs": [
    {
     "data": {
      "text/html": [
       "<div>\n",
       "<style scoped>\n",
       "    .dataframe tbody tr th:only-of-type {\n",
       "        vertical-align: middle;\n",
       "    }\n",
       "\n",
       "    .dataframe tbody tr th {\n",
       "        vertical-align: top;\n",
       "    }\n",
       "\n",
       "    .dataframe thead th {\n",
       "        text-align: right;\n",
       "    }\n",
       "</style>\n",
       "<table border=\"1\" class=\"dataframe\">\n",
       "  <thead>\n",
       "    <tr style=\"text-align: right;\">\n",
       "      <th></th>\n",
       "      <th>name</th>\n",
       "      <th>age</th>\n",
       "      <th>city</th>\n",
       "      <th>occupation</th>\n",
       "      <th>salary</th>\n",
       "    </tr>\n",
       "  </thead>\n",
       "  <tbody>\n",
       "    <tr>\n",
       "      <th>0</th>\n",
       "      <td>Alice Johnson</td>\n",
       "      <td>28</td>\n",
       "      <td>New York</td>\n",
       "      <td>Software Engineer</td>\n",
       "      <td>85000</td>\n",
       "    </tr>\n",
       "    <tr>\n",
       "      <th>1</th>\n",
       "      <td>Bob Smith</td>\n",
       "      <td>34</td>\n",
       "      <td>San Francisco</td>\n",
       "      <td>Data Scientist</td>\n",
       "      <td>95000</td>\n",
       "    </tr>\n",
       "    <tr>\n",
       "      <th>2</th>\n",
       "      <td>Carol Davis</td>\n",
       "      <td>29</td>\n",
       "      <td>Boston</td>\n",
       "      <td>Product Manager</td>\n",
       "      <td>75000</td>\n",
       "    </tr>\n",
       "    <tr>\n",
       "      <th>3</th>\n",
       "      <td>David Wilson</td>\n",
       "      <td>31</td>\n",
       "      <td>Seattle</td>\n",
       "      <td>UX Designer</td>\n",
       "      <td>70000</td>\n",
       "    </tr>\n",
       "    <tr>\n",
       "      <th>4</th>\n",
       "      <td>Eva Brown</td>\n",
       "      <td>26</td>\n",
       "      <td>Austin</td>\n",
       "      <td>Marketing Specialist</td>\n",
       "      <td>60000</td>\n",
       "    </tr>\n",
       "  </tbody>\n",
       "</table>\n",
       "</div>"
      ],
      "text/plain": [
       "            name  age           city            occupation  salary\n",
       "0  Alice Johnson   28       New York     Software Engineer   85000\n",
       "1      Bob Smith   34  San Francisco        Data Scientist   95000\n",
       "2    Carol Davis   29         Boston       Product Manager   75000\n",
       "3   David Wilson   31        Seattle           UX Designer   70000\n",
       "4      Eva Brown   26         Austin  Marketing Specialist   60000"
      ]
     },
     "execution_count": 34,
     "metadata": {},
     "output_type": "execute_result"
    }
   ],
   "source": [
    "pd.read_csv(\"sample_t.tsv\", sep=\"\\t\")"
   ]
  }
 ],
 "metadata": {
  "kernelspec": {
   "display_name": "Python 3 (ipykernel)",
   "language": "python",
   "name": "python3"
  },
  "language_info": {
   "codemirror_mode": {
    "name": "ipython",
    "version": 3
   },
   "file_extension": ".py",
   "mimetype": "text/x-python",
   "name": "python",
   "nbconvert_exporter": "python",
   "pygments_lexer": "ipython3",
   "version": "3.12.10"
  }
 },
 "nbformat": 4,
 "nbformat_minor": 5
}
