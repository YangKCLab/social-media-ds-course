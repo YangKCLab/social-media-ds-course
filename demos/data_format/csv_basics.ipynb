{
 "cells": [
  {
   "cell_type": "markdown",
   "id": "1e43d29f-aff1-4579-abec-924d637f812b",
   "metadata": {},
   "source": [
    "# Load csv file with pure Python"
   ]
  },
  {
   "cell_type": "code",
   "execution_count": 6,
   "id": "6f72b350-7fd9-4618-8cec-2878a45f8c2c",
   "metadata": {},
   "outputs": [],
   "source": [
    "csv_content = []\n",
    "with open(\"sample.csv\") as f:\n",
    "    for line in f:\n",
    "        line_components = line.strip().split(\",\")\n",
    "        csv_content.append(line_components)"
   ]
  },
  {
   "cell_type": "code",
   "execution_count": 7,
   "id": "a171f581-699b-4cc6-9926-96eee1ef383b",
   "metadata": {},
   "outputs": [
    {
     "data": {
      "text/plain": [
       "[['name', 'age', 'city', 'occupation', 'salary'],\n",
       " ['Alice Johnson', '28', 'New York', 'Software Engineer', '85000'],\n",
       " ['Bob Smith', '34', 'San Francisco', 'Data Scientist', '95000'],\n",
       " ['Carol Davis', '29', 'Boston', 'Product Manager', '75000'],\n",
       " ['David Wilson', '31', 'Seattle', 'UX Designer', '70000'],\n",
       " ['Eva Brown', '26', 'Austin', 'Marketing Specialist', '60000']]"
      ]
     },
     "execution_count": 7,
     "metadata": {},
     "output_type": "execute_result"
    }
   ],
   "source": [
    "csv_content"
   ]
  },
  {
   "cell_type": "markdown",
   "id": "a0cc04ac-3604-4b9d-a538-cc3baa34afd1",
   "metadata": {},
   "source": [
    "# Pandas basics"
   ]
  },
  {
   "cell_type": "code",
   "execution_count": 8,
   "id": "f963438a-eea4-4d43-974c-3f85ca1a96fc",
   "metadata": {},
   "outputs": [],
   "source": [
    "import pandas as pd"
   ]
  },
  {
   "cell_type": "code",
   "execution_count": 9,
   "id": "8647592e-912a-4ee7-bba2-5ad322d4772d",
   "metadata": {},
   "outputs": [],
   "source": [
    "csv_df = pd.read_csv(\"sample.csv\")"
   ]
  },
  {
   "cell_type": "code",
   "execution_count": 10,
   "id": "90f96a27-79a4-4c0f-9372-d7fcaf585410",
   "metadata": {},
   "outputs": [
    {
     "data": {
      "text/html": [
       "<div>\n",
       "<style scoped>\n",
       "    .dataframe tbody tr th:only-of-type {\n",
       "        vertical-align: middle;\n",
       "    }\n",
       "\n",
       "    .dataframe tbody tr th {\n",
       "        vertical-align: top;\n",
       "    }\n",
       "\n",
       "    .dataframe thead th {\n",
       "        text-align: right;\n",
       "    }\n",
       "</style>\n",
       "<table border=\"1\" class=\"dataframe\">\n",
       "  <thead>\n",
       "    <tr style=\"text-align: right;\">\n",
       "      <th></th>\n",
       "      <th>name</th>\n",
       "      <th>age</th>\n",
       "      <th>city</th>\n",
       "      <th>occupation</th>\n",
       "      <th>salary</th>\n",
       "    </tr>\n",
       "  </thead>\n",
       "  <tbody>\n",
       "    <tr>\n",
       "      <th>0</th>\n",
       "      <td>Alice Johnson</td>\n",
       "      <td>28</td>\n",
       "      <td>New York</td>\n",
       "      <td>Software Engineer</td>\n",
       "      <td>85000</td>\n",
       "    </tr>\n",
       "    <tr>\n",
       "      <th>1</th>\n",
       "      <td>Bob Smith</td>\n",
       "      <td>34</td>\n",
       "      <td>San Francisco</td>\n",
       "      <td>Data Scientist</td>\n",
       "      <td>95000</td>\n",
       "    </tr>\n",
       "    <tr>\n",
       "      <th>2</th>\n",
       "      <td>Carol Davis</td>\n",
       "      <td>29</td>\n",
       "      <td>Boston</td>\n",
       "      <td>Product Manager</td>\n",
       "      <td>75000</td>\n",
       "    </tr>\n",
       "    <tr>\n",
       "      <th>3</th>\n",
       "      <td>David Wilson</td>\n",
       "      <td>31</td>\n",
       "      <td>Seattle</td>\n",
       "      <td>UX Designer</td>\n",
       "      <td>70000</td>\n",
       "    </tr>\n",
       "    <tr>\n",
       "      <th>4</th>\n",
       "      <td>Eva Brown</td>\n",
       "      <td>26</td>\n",
       "      <td>Austin</td>\n",
       "      <td>Marketing Specialist</td>\n",
       "      <td>60000</td>\n",
       "    </tr>\n",
       "  </tbody>\n",
       "</table>\n",
       "</div>"
      ],
      "text/plain": [
       "            name  age           city            occupation  salary\n",
       "0  Alice Johnson   28       New York     Software Engineer   85000\n",
       "1      Bob Smith   34  San Francisco        Data Scientist   95000\n",
       "2    Carol Davis   29         Boston       Product Manager   75000\n",
       "3   David Wilson   31        Seattle           UX Designer   70000\n",
       "4      Eva Brown   26         Austin  Marketing Specialist   60000"
      ]
     },
     "execution_count": 10,
     "metadata": {},
     "output_type": "execute_result"
    }
   ],
   "source": [
    "csv_df"
   ]
  },
  {
   "cell_type": "code",
   "execution_count": 11,
   "id": "264cbd93-5d78-4101-9d3d-610263d59f94",
   "metadata": {},
   "outputs": [
    {
     "data": {
      "text/plain": [
       "0    Alice Johnson\n",
       "1        Bob Smith\n",
       "2      Carol Davis\n",
       "3     David Wilson\n",
       "4        Eva Brown\n",
       "Name: name, dtype: object"
      ]
     },
     "execution_count": 11,
     "metadata": {},
     "output_type": "execute_result"
    }
   ],
   "source": [
    "csv_df['name']"
   ]
  },
  {
   "cell_type": "code",
   "execution_count": 13,
   "id": "034280ac-895b-4bfc-825b-f21f1f8575b6",
   "metadata": {},
   "outputs": [
    {
     "data": {
      "text/plain": [
       "0    28\n",
       "1    34\n",
       "2    29\n",
       "3    31\n",
       "4    26\n",
       "Name: age, dtype: int64"
      ]
     },
     "execution_count": 13,
     "metadata": {},
     "output_type": "execute_result"
    }
   ],
   "source": [
    "csv_df['age']"
   ]
  },
  {
   "cell_type": "markdown",
   "id": "b1ed80a9-920f-4350-8867-76a181b0a010",
   "metadata": {},
   "source": [
    "# Other separators"
   ]
  },
  {
   "cell_type": "code",
   "execution_count": 33,
   "id": "ae2a7975-b7a9-46fd-bcbc-f9d549383b22",
   "metadata": {},
   "outputs": [
    {
     "data": {
      "text/html": [
       "<div>\n",
       "<style scoped>\n",
       "    .dataframe tbody tr th:only-of-type {\n",
       "        vertical-align: middle;\n",
       "    }\n",
       "\n",
       "    .dataframe tbody tr th {\n",
       "        vertical-align: top;\n",
       "    }\n",
       "\n",
       "    .dataframe thead th {\n",
       "        text-align: right;\n",
       "    }\n",
       "</style>\n",
       "<table border=\"1\" class=\"dataframe\">\n",
       "  <thead>\n",
       "    <tr style=\"text-align: right;\">\n",
       "      <th></th>\n",
       "      <th>name</th>\n",
       "      <th>age</th>\n",
       "      <th>city</th>\n",
       "      <th>occupation</th>\n",
       "      <th>salary</th>\n",
       "    </tr>\n",
       "  </thead>\n",
       "  <tbody>\n",
       "    <tr>\n",
       "      <th>Alice Johnson</th>\n",
       "      <td>28</td>\n",
       "      <td>New York</td>\n",
       "      <td>Software Engineer</td>\n",
       "      <td>Data Scientist</td>\n",
       "      <td>85000.0</td>\n",
       "    </tr>\n",
       "    <tr>\n",
       "      <th>Bob Smith</th>\n",
       "      <td>34</td>\n",
       "      <td>San Francisco</td>\n",
       "      <td>Data Scientist</td>\n",
       "      <td>95000</td>\n",
       "      <td>NaN</td>\n",
       "    </tr>\n",
       "    <tr>\n",
       "      <th>Davis</th>\n",
       "      <td>Carol</td>\n",
       "      <td>29</td>\n",
       "      <td>Boston</td>\n",
       "      <td>Product Manager</td>\n",
       "      <td>75000.0</td>\n",
       "    </tr>\n",
       "    <tr>\n",
       "      <th>David Wilson</th>\n",
       "      <td>31</td>\n",
       "      <td>Seattle</td>\n",
       "      <td>UX Designer</td>\n",
       "      <td>70000</td>\n",
       "      <td>NaN</td>\n",
       "    </tr>\n",
       "    <tr>\n",
       "      <th>Eva Brown</th>\n",
       "      <td>26</td>\n",
       "      <td>Austin</td>\n",
       "      <td>Marketing Specialist</td>\n",
       "      <td>60000</td>\n",
       "      <td>NaN</td>\n",
       "    </tr>\n",
       "  </tbody>\n",
       "</table>\n",
       "</div>"
      ],
      "text/plain": [
       "                 name            age                  city       occupation  \\\n",
       "Alice Johnson      28       New York     Software Engineer   Data Scientist   \n",
       "Bob Smith          34  San Francisco        Data Scientist            95000   \n",
       "Davis           Carol             29                Boston  Product Manager   \n",
       "David Wilson       31        Seattle           UX Designer            70000   \n",
       "Eva Brown          26         Austin  Marketing Specialist            60000   \n",
       "\n",
       "                salary  \n",
       "Alice Johnson  85000.0  \n",
       "Bob Smith          NaN  \n",
       "Davis          75000.0  \n",
       "David Wilson       NaN  \n",
       "Eva Brown          NaN  "
      ]
     },
     "execution_count": 33,
     "metadata": {},
     "output_type": "execute_result"
    }
   ],
   "source": [
    "pd.read_csv(\"sample_broken.csv\")"
   ]
  },
  {
   "cell_type": "code",
   "execution_count": 26,
   "id": "32373436-9904-4457-9a77-2a57e6ede4f5",
   "metadata": {},
   "outputs": [],
   "source": [
    "csv_df.to_csv(\"sample_pipe.csv\", sep=\"|\", index=None)"
   ]
  },
  {
   "cell_type": "code",
   "execution_count": 27,
   "id": "b6f1b96e-1ef8-4913-87a9-e3c546bd0606",
   "metadata": {},
   "outputs": [
    {
     "data": {
      "text/html": [
       "<div>\n",
       "<style scoped>\n",
       "    .dataframe tbody tr th:only-of-type {\n",
       "        vertical-align: middle;\n",
       "    }\n",
       "\n",
       "    .dataframe tbody tr th {\n",
       "        vertical-align: top;\n",
       "    }\n",
       "\n",
       "    .dataframe thead th {\n",
       "        text-align: right;\n",
       "    }\n",
       "</style>\n",
       "<table border=\"1\" class=\"dataframe\">\n",
       "  <thead>\n",
       "    <tr style=\"text-align: right;\">\n",
       "      <th></th>\n",
       "      <th>name|age|city|occupation|salary</th>\n",
       "    </tr>\n",
       "  </thead>\n",
       "  <tbody>\n",
       "    <tr>\n",
       "      <th>0</th>\n",
       "      <td>Alice Johnson|28|New York|Software Engineer|85000</td>\n",
       "    </tr>\n",
       "    <tr>\n",
       "      <th>1</th>\n",
       "      <td>Bob Smith|34|San Francisco|Data Scientist|95000</td>\n",
       "    </tr>\n",
       "    <tr>\n",
       "      <th>2</th>\n",
       "      <td>Carol Davis|29|Boston|Product Manager|75000</td>\n",
       "    </tr>\n",
       "    <tr>\n",
       "      <th>3</th>\n",
       "      <td>David Wilson|31|Seattle|UX Designer|70000</td>\n",
       "    </tr>\n",
       "    <tr>\n",
       "      <th>4</th>\n",
       "      <td>Eva Brown|26|Austin|Marketing Specialist|60000</td>\n",
       "    </tr>\n",
       "  </tbody>\n",
       "</table>\n",
       "</div>"
      ],
      "text/plain": [
       "                     name|age|city|occupation|salary\n",
       "0  Alice Johnson|28|New York|Software Engineer|85000\n",
       "1    Bob Smith|34|San Francisco|Data Scientist|95000\n",
       "2        Carol Davis|29|Boston|Product Manager|75000\n",
       "3          David Wilson|31|Seattle|UX Designer|70000\n",
       "4     Eva Brown|26|Austin|Marketing Specialist|60000"
      ]
     },
     "execution_count": 27,
     "metadata": {},
     "output_type": "execute_result"
    }
   ],
   "source": [
    "pd.read_csv(\"sample_pipe.csv\")"
   ]
  },
  {
   "cell_type": "code",
   "execution_count": 28,
   "id": "77e2bc2b-bc16-4969-899f-4c8a0a7c9e1a",
   "metadata": {},
   "outputs": [
    {
     "data": {
      "text/html": [
       "<div>\n",
       "<style scoped>\n",
       "    .dataframe tbody tr th:only-of-type {\n",
       "        vertical-align: middle;\n",
       "    }\n",
       "\n",
       "    .dataframe tbody tr th {\n",
       "        vertical-align: top;\n",
       "    }\n",
       "\n",
       "    .dataframe thead th {\n",
       "        text-align: right;\n",
       "    }\n",
       "</style>\n",
       "<table border=\"1\" class=\"dataframe\">\n",
       "  <thead>\n",
       "    <tr style=\"text-align: right;\">\n",
       "      <th></th>\n",
       "      <th>name</th>\n",
       "      <th>age</th>\n",
       "      <th>city</th>\n",
       "      <th>occupation</th>\n",
       "      <th>salary</th>\n",
       "    </tr>\n",
       "  </thead>\n",
       "  <tbody>\n",
       "    <tr>\n",
       "      <th>0</th>\n",
       "      <td>Alice Johnson</td>\n",
       "      <td>28</td>\n",
       "      <td>New York</td>\n",
       "      <td>Software Engineer</td>\n",
       "      <td>85000</td>\n",
       "    </tr>\n",
       "    <tr>\n",
       "      <th>1</th>\n",
       "      <td>Bob Smith</td>\n",
       "      <td>34</td>\n",
       "      <td>San Francisco</td>\n",
       "      <td>Data Scientist</td>\n",
       "      <td>95000</td>\n",
       "    </tr>\n",
       "    <tr>\n",
       "      <th>2</th>\n",
       "      <td>Carol Davis</td>\n",
       "      <td>29</td>\n",
       "      <td>Boston</td>\n",
       "      <td>Product Manager</td>\n",
       "      <td>75000</td>\n",
       "    </tr>\n",
       "    <tr>\n",
       "      <th>3</th>\n",
       "      <td>David Wilson</td>\n",
       "      <td>31</td>\n",
       "      <td>Seattle</td>\n",
       "      <td>UX Designer</td>\n",
       "      <td>70000</td>\n",
       "    </tr>\n",
       "    <tr>\n",
       "      <th>4</th>\n",
       "      <td>Eva Brown</td>\n",
       "      <td>26</td>\n",
       "      <td>Austin</td>\n",
       "      <td>Marketing Specialist</td>\n",
       "      <td>60000</td>\n",
       "    </tr>\n",
       "  </tbody>\n",
       "</table>\n",
       "</div>"
      ],
      "text/plain": [
       "            name  age           city            occupation  salary\n",
       "0  Alice Johnson   28       New York     Software Engineer   85000\n",
       "1      Bob Smith   34  San Francisco        Data Scientist   95000\n",
       "2    Carol Davis   29         Boston       Product Manager   75000\n",
       "3   David Wilson   31        Seattle           UX Designer   70000\n",
       "4      Eva Brown   26         Austin  Marketing Specialist   60000"
      ]
     },
     "execution_count": 28,
     "metadata": {},
     "output_type": "execute_result"
    }
   ],
   "source": [
    "pd.read_csv(\"sample_pipe.csv\", sep=\"|\")"
   ]
  },
  {
   "cell_type": "code",
   "execution_count": 29,
   "id": "ca93571f-629b-4dca-b367-7c726bb73d58",
   "metadata": {},
   "outputs": [],
   "source": [
    "csv_df.to_csv(\"sample_t.tsv\", sep='\\t', index=None)"
   ]
  },
  {
   "cell_type": "code",
   "execution_count": 32,
   "id": "789f4d0b-426d-4d1e-9cb8-d3bf51162c91",
   "metadata": {},
   "outputs": [
    {
     "data": {
      "text/html": [
       "<div>\n",
       "<style scoped>\n",
       "    .dataframe tbody tr th:only-of-type {\n",
       "        vertical-align: middle;\n",
       "    }\n",
       "\n",
       "    .dataframe tbody tr th {\n",
       "        vertical-align: top;\n",
       "    }\n",
       "\n",
       "    .dataframe thead th {\n",
       "        text-align: right;\n",
       "    }\n",
       "</style>\n",
       "<table border=\"1\" class=\"dataframe\">\n",
       "  <thead>\n",
       "    <tr style=\"text-align: right;\">\n",
       "      <th></th>\n",
       "      <th>name\\tage\\tcity\\toccupation\\tsalary</th>\n",
       "    </tr>\n",
       "  </thead>\n",
       "  <tbody>\n",
       "    <tr>\n",
       "      <th>0</th>\n",
       "      <td>Alice Johnson\\t28\\tNew York\\tSoftware Engineer...</td>\n",
       "    </tr>\n",
       "    <tr>\n",
       "      <th>1</th>\n",
       "      <td>Bob Smith\\t34\\tSan Francisco\\tData Scientist\\t...</td>\n",
       "    </tr>\n",
       "    <tr>\n",
       "      <th>2</th>\n",
       "      <td>Carol Davis\\t29\\tBoston\\tProduct Manager\\t75000</td>\n",
       "    </tr>\n",
       "    <tr>\n",
       "      <th>3</th>\n",
       "      <td>David Wilson\\t31\\tSeattle\\tUX Designer\\t70000</td>\n",
       "    </tr>\n",
       "    <tr>\n",
       "      <th>4</th>\n",
       "      <td>Eva Brown\\t26\\tAustin\\tMarketing Specialist\\t6...</td>\n",
       "    </tr>\n",
       "  </tbody>\n",
       "</table>\n",
       "</div>"
      ],
      "text/plain": [
       "                 name\\tage\\tcity\\toccupation\\tsalary\n",
       "0  Alice Johnson\\t28\\tNew York\\tSoftware Engineer...\n",
       "1  Bob Smith\\t34\\tSan Francisco\\tData Scientist\\t...\n",
       "2    Carol Davis\\t29\\tBoston\\tProduct Manager\\t75000\n",
       "3      David Wilson\\t31\\tSeattle\\tUX Designer\\t70000\n",
       "4  Eva Brown\\t26\\tAustin\\tMarketing Specialist\\t6..."
      ]
     },
     "execution_count": 32,
     "metadata": {},
     "output_type": "execute_result"
    }
   ],
   "source": [
    "pd.read_csv(\"sample_t.tsv\")"
   ]
  },
  {
   "cell_type": "code",
   "execution_count": 34,
   "id": "615b3990-47e1-4322-8c5a-d8e39d5132a4",
   "metadata": {},
   "outputs": [
    {
     "data": {
      "text/html": [
       "<div>\n",
       "<style scoped>\n",
       "    .dataframe tbody tr th:only-of-type {\n",
       "        vertical-align: middle;\n",
       "    }\n",
       "\n",
       "    .dataframe tbody tr th {\n",
       "        vertical-align: top;\n",
       "    }\n",
       "\n",
       "    .dataframe thead th {\n",
       "        text-align: right;\n",
       "    }\n",
       "</style>\n",
       "<table border=\"1\" class=\"dataframe\">\n",
       "  <thead>\n",
       "    <tr style=\"text-align: right;\">\n",
       "      <th></th>\n",
       "      <th>name</th>\n",
       "      <th>age</th>\n",
       "      <th>city</th>\n",
       "      <th>occupation</th>\n",
       "      <th>salary</th>\n",
       "    </tr>\n",
       "  </thead>\n",
       "  <tbody>\n",
       "    <tr>\n",
       "      <th>0</th>\n",
       "      <td>Alice Johnson</td>\n",
       "      <td>28</td>\n",
       "      <td>New York</td>\n",
       "      <td>Software Engineer</td>\n",
       "      <td>85000</td>\n",
       "    </tr>\n",
       "    <tr>\n",
       "      <th>1</th>\n",
       "      <td>Bob Smith</td>\n",
       "      <td>34</td>\n",
       "      <td>San Francisco</td>\n",
       "      <td>Data Scientist</td>\n",
       "      <td>95000</td>\n",
       "    </tr>\n",
       "    <tr>\n",
       "      <th>2</th>\n",
       "      <td>Carol Davis</td>\n",
       "      <td>29</td>\n",
       "      <td>Boston</td>\n",
       "      <td>Product Manager</td>\n",
       "      <td>75000</td>\n",
       "    </tr>\n",
       "    <tr>\n",
       "      <th>3</th>\n",
       "      <td>David Wilson</td>\n",
       "      <td>31</td>\n",
       "      <td>Seattle</td>\n",
       "      <td>UX Designer</td>\n",
       "      <td>70000</td>\n",
       "    </tr>\n",
       "    <tr>\n",
       "      <th>4</th>\n",
       "      <td>Eva Brown</td>\n",
       "      <td>26</td>\n",
       "      <td>Austin</td>\n",
       "      <td>Marketing Specialist</td>\n",
       "      <td>60000</td>\n",
       "    </tr>\n",
       "  </tbody>\n",
       "</table>\n",
       "</div>"
      ],
      "text/plain": [
       "            name  age           city            occupation  salary\n",
       "0  Alice Johnson   28       New York     Software Engineer   85000\n",
       "1      Bob Smith   34  San Francisco        Data Scientist   95000\n",
       "2    Carol Davis   29         Boston       Product Manager   75000\n",
       "3   David Wilson   31        Seattle           UX Designer   70000\n",
       "4      Eva Brown   26         Austin  Marketing Specialist   60000"
      ]
     },
     "execution_count": 34,
     "metadata": {},
     "output_type": "execute_result"
    }
   ],
   "source": [
    "pd.read_csv(\"sample_t.tsv\", sep=\"\\t\")"
   ]
  },
  {
   "cell_type": "markdown",
   "id": "975e475b-ed8c-4c36-b962-84c0bce282e7",
   "metadata": {},
   "source": [
    "# Data format"
   ]
  },
  {
   "cell_type": "code",
   "execution_count": 38,
   "id": "82b271ff-0ff6-4503-9927-7376c0af05e3",
   "metadata": {},
   "outputs": [],
   "source": [
    "fips_df = pd.read_csv(\"fips.csv\")"
   ]
  },
  {
   "cell_type": "code",
   "execution_count": 41,
   "id": "a2b5c719-6e79-43a0-915b-001db5e75b8e",
   "metadata": {},
   "outputs": [
    {
     "data": {
      "text/plain": [
       "state     object\n",
       "county    object\n",
       "fips       int64\n",
       "dtype: object"
      ]
     },
     "execution_count": 41,
     "metadata": {},
     "output_type": "execute_result"
    }
   ],
   "source": [
    "fips_df.dtypes"
   ]
  },
  {
   "cell_type": "code",
   "execution_count": 42,
   "id": "ac03da8f-71d9-4084-a403-c4ecd7bc6756",
   "metadata": {},
   "outputs": [
    {
     "data": {
      "text/html": [
       "<div>\n",
       "<style scoped>\n",
       "    .dataframe tbody tr th:only-of-type {\n",
       "        vertical-align: middle;\n",
       "    }\n",
       "\n",
       "    .dataframe tbody tr th {\n",
       "        vertical-align: top;\n",
       "    }\n",
       "\n",
       "    .dataframe thead th {\n",
       "        text-align: right;\n",
       "    }\n",
       "</style>\n",
       "<table border=\"1\" class=\"dataframe\">\n",
       "  <thead>\n",
       "    <tr style=\"text-align: right;\">\n",
       "      <th></th>\n",
       "      <th>state</th>\n",
       "      <th>county</th>\n",
       "      <th>fips</th>\n",
       "    </tr>\n",
       "  </thead>\n",
       "  <tbody>\n",
       "    <tr>\n",
       "      <th>0</th>\n",
       "      <td>Alabama</td>\n",
       "      <td>Autauga</td>\n",
       "      <td>1001</td>\n",
       "    </tr>\n",
       "    <tr>\n",
       "      <th>1</th>\n",
       "      <td>Alabama</td>\n",
       "      <td>Baldwin</td>\n",
       "      <td>1003</td>\n",
       "    </tr>\n",
       "    <tr>\n",
       "      <th>2</th>\n",
       "      <td>Alabama</td>\n",
       "      <td>Barbour</td>\n",
       "      <td>1005</td>\n",
       "    </tr>\n",
       "    <tr>\n",
       "      <th>3</th>\n",
       "      <td>Alabama</td>\n",
       "      <td>Bibb</td>\n",
       "      <td>1007</td>\n",
       "    </tr>\n",
       "  </tbody>\n",
       "</table>\n",
       "</div>"
      ],
      "text/plain": [
       "     state   county  fips\n",
       "0  Alabama  Autauga  1001\n",
       "1  Alabama  Baldwin  1003\n",
       "2  Alabama  Barbour  1005\n",
       "3  Alabama     Bibb  1007"
      ]
     },
     "execution_count": 42,
     "metadata": {},
     "output_type": "execute_result"
    }
   ],
   "source": [
    "fips_df"
   ]
  },
  {
   "cell_type": "code",
   "execution_count": 44,
   "id": "2a87e212-3553-4409-a42e-19edfb272b75",
   "metadata": {},
   "outputs": [],
   "source": [
    "fips_str_df = pd.read_csv(\"fips.csv\", dtype={\"fips\": \"str\"})"
   ]
  },
  {
   "cell_type": "code",
   "execution_count": 45,
   "id": "2594d7d4-9fda-4d4b-9933-ff7ef3a5c879",
   "metadata": {},
   "outputs": [
    {
     "data": {
      "text/plain": [
       "state     object\n",
       "county    object\n",
       "fips      object\n",
       "dtype: object"
      ]
     },
     "execution_count": 45,
     "metadata": {},
     "output_type": "execute_result"
    }
   ],
   "source": [
    "fips_str_df.dtypes"
   ]
  },
  {
   "cell_type": "code",
   "execution_count": 46,
   "id": "5fb96f0c-45b7-4f41-b4df-32cd64c6b314",
   "metadata": {},
   "outputs": [
    {
     "data": {
      "text/html": [
       "<div>\n",
       "<style scoped>\n",
       "    .dataframe tbody tr th:only-of-type {\n",
       "        vertical-align: middle;\n",
       "    }\n",
       "\n",
       "    .dataframe tbody tr th {\n",
       "        vertical-align: top;\n",
       "    }\n",
       "\n",
       "    .dataframe thead th {\n",
       "        text-align: right;\n",
       "    }\n",
       "</style>\n",
       "<table border=\"1\" class=\"dataframe\">\n",
       "  <thead>\n",
       "    <tr style=\"text-align: right;\">\n",
       "      <th></th>\n",
       "      <th>state</th>\n",
       "      <th>county</th>\n",
       "      <th>fips</th>\n",
       "    </tr>\n",
       "  </thead>\n",
       "  <tbody>\n",
       "    <tr>\n",
       "      <th>0</th>\n",
       "      <td>Alabama</td>\n",
       "      <td>Autauga</td>\n",
       "      <td>01001</td>\n",
       "    </tr>\n",
       "    <tr>\n",
       "      <th>1</th>\n",
       "      <td>Alabama</td>\n",
       "      <td>Baldwin</td>\n",
       "      <td>01003</td>\n",
       "    </tr>\n",
       "    <tr>\n",
       "      <th>2</th>\n",
       "      <td>Alabama</td>\n",
       "      <td>Barbour</td>\n",
       "      <td>01005</td>\n",
       "    </tr>\n",
       "    <tr>\n",
       "      <th>3</th>\n",
       "      <td>Alabama</td>\n",
       "      <td>Bibb</td>\n",
       "      <td>01007</td>\n",
       "    </tr>\n",
       "  </tbody>\n",
       "</table>\n",
       "</div>"
      ],
      "text/plain": [
       "     state   county   fips\n",
       "0  Alabama  Autauga  01001\n",
       "1  Alabama  Baldwin  01003\n",
       "2  Alabama  Barbour  01005\n",
       "3  Alabama     Bibb  01007"
      ]
     },
     "execution_count": 46,
     "metadata": {},
     "output_type": "execute_result"
    }
   ],
   "source": [
    "fips_str_df"
   ]
  },
  {
   "cell_type": "markdown",
   "id": "5a413945-1fbe-4e6c-89e7-3fb17f7891fb",
   "metadata": {},
   "source": [
    "# Gzip"
   ]
  },
  {
   "cell_type": "code",
   "execution_count": 49,
   "id": "e4a1980b-dbfc-48f6-8f8e-8bc27f8fc542",
   "metadata": {},
   "outputs": [],
   "source": [
    "fips_str_df.to_csv(\"fips.csv.gz\", compression='gzip', index=None)"
   ]
  },
  {
   "cell_type": "code",
   "execution_count": 51,
   "id": "1142449b-f618-4ac0-91d0-b1e2c2fca06f",
   "metadata": {},
   "outputs": [
    {
     "data": {
      "text/html": [
       "<div>\n",
       "<style scoped>\n",
       "    .dataframe tbody tr th:only-of-type {\n",
       "        vertical-align: middle;\n",
       "    }\n",
       "\n",
       "    .dataframe tbody tr th {\n",
       "        vertical-align: top;\n",
       "    }\n",
       "\n",
       "    .dataframe thead th {\n",
       "        text-align: right;\n",
       "    }\n",
       "</style>\n",
       "<table border=\"1\" class=\"dataframe\">\n",
       "  <thead>\n",
       "    <tr style=\"text-align: right;\">\n",
       "      <th></th>\n",
       "      <th>state</th>\n",
       "      <th>county</th>\n",
       "      <th>fips</th>\n",
       "    </tr>\n",
       "  </thead>\n",
       "  <tbody>\n",
       "    <tr>\n",
       "      <th>0</th>\n",
       "      <td>Alabama</td>\n",
       "      <td>Autauga</td>\n",
       "      <td>01001</td>\n",
       "    </tr>\n",
       "    <tr>\n",
       "      <th>1</th>\n",
       "      <td>Alabama</td>\n",
       "      <td>Baldwin</td>\n",
       "      <td>01003</td>\n",
       "    </tr>\n",
       "    <tr>\n",
       "      <th>2</th>\n",
       "      <td>Alabama</td>\n",
       "      <td>Barbour</td>\n",
       "      <td>01005</td>\n",
       "    </tr>\n",
       "    <tr>\n",
       "      <th>3</th>\n",
       "      <td>Alabama</td>\n",
       "      <td>Bibb</td>\n",
       "      <td>01007</td>\n",
       "    </tr>\n",
       "  </tbody>\n",
       "</table>\n",
       "</div>"
      ],
      "text/plain": [
       "     state   county   fips\n",
       "0  Alabama  Autauga  01001\n",
       "1  Alabama  Baldwin  01003\n",
       "2  Alabama  Barbour  01005\n",
       "3  Alabama     Bibb  01007"
      ]
     },
     "execution_count": 51,
     "metadata": {},
     "output_type": "execute_result"
    }
   ],
   "source": [
    "pd.read_csv(\"fips.csv.gz\", compression='gzip', dtype={\"fips\": \"str\"})"
   ]
  },
  {
   "cell_type": "markdown",
   "id": "0a1c471f-29b9-462f-a48a-47617d971bff",
   "metadata": {},
   "source": [
    "# Parquet"
   ]
  },
  {
   "cell_type": "code",
   "execution_count": 54,
   "id": "af8c3d8e-aa36-4d76-936a-a0bc8b1d1a6d",
   "metadata": {},
   "outputs": [],
   "source": [
    "fips_str_df.to_parquet(\"fips.parquet\")"
   ]
  },
  {
   "cell_type": "code",
   "execution_count": 55,
   "id": "3694e1d6-b986-4a5e-abdb-477257fdc18f",
   "metadata": {},
   "outputs": [
    {
     "data": {
      "text/html": [
       "<div>\n",
       "<style scoped>\n",
       "    .dataframe tbody tr th:only-of-type {\n",
       "        vertical-align: middle;\n",
       "    }\n",
       "\n",
       "    .dataframe tbody tr th {\n",
       "        vertical-align: top;\n",
       "    }\n",
       "\n",
       "    .dataframe thead th {\n",
       "        text-align: right;\n",
       "    }\n",
       "</style>\n",
       "<table border=\"1\" class=\"dataframe\">\n",
       "  <thead>\n",
       "    <tr style=\"text-align: right;\">\n",
       "      <th></th>\n",
       "      <th>state</th>\n",
       "      <th>county</th>\n",
       "      <th>fips</th>\n",
       "    </tr>\n",
       "  </thead>\n",
       "  <tbody>\n",
       "    <tr>\n",
       "      <th>0</th>\n",
       "      <td>Alabama</td>\n",
       "      <td>Autauga</td>\n",
       "      <td>01001</td>\n",
       "    </tr>\n",
       "    <tr>\n",
       "      <th>1</th>\n",
       "      <td>Alabama</td>\n",
       "      <td>Baldwin</td>\n",
       "      <td>01003</td>\n",
       "    </tr>\n",
       "    <tr>\n",
       "      <th>2</th>\n",
       "      <td>Alabama</td>\n",
       "      <td>Barbour</td>\n",
       "      <td>01005</td>\n",
       "    </tr>\n",
       "    <tr>\n",
       "      <th>3</th>\n",
       "      <td>Alabama</td>\n",
       "      <td>Bibb</td>\n",
       "      <td>01007</td>\n",
       "    </tr>\n",
       "  </tbody>\n",
       "</table>\n",
       "</div>"
      ],
      "text/plain": [
       "     state   county   fips\n",
       "0  Alabama  Autauga  01001\n",
       "1  Alabama  Baldwin  01003\n",
       "2  Alabama  Barbour  01005\n",
       "3  Alabama     Bibb  01007"
      ]
     },
     "execution_count": 55,
     "metadata": {},
     "output_type": "execute_result"
    }
   ],
   "source": [
    "pd.read_parquet(\"fips.parquet\")"
   ]
  },
  {
   "cell_type": "markdown",
   "id": "1b654c0a-f485-4683-b492-be58293c9df1",
   "metadata": {},
   "source": [
    "# Tabular to JSON"
   ]
  },
  {
   "cell_type": "code",
   "execution_count": 61,
   "id": "4aae7410-2b90-4121-9026-d485051b7e4a",
   "metadata": {},
   "outputs": [
    {
     "name": "stdout",
     "output_type": "stream",
     "text": [
      "[\n",
      "  {\n",
      "    \"state\":\"Alabama\",\n",
      "    \"county\":\"Autauga\",\n",
      "    \"fips\":\"01001\"\n",
      "  },\n",
      "  {\n",
      "    \"state\":\"Alabama\",\n",
      "    \"county\":\"Baldwin\",\n",
      "    \"fips\":\"01003\"\n",
      "  },\n",
      "  {\n",
      "    \"state\":\"Alabama\",\n",
      "    \"county\":\"Barbour\",\n",
      "    \"fips\":\"01005\"\n",
      "  },\n",
      "  {\n",
      "    \"state\":\"Alabama\",\n",
      "    \"county\":\"Bibb\",\n",
      "    \"fips\":\"01007\"\n",
      "  }\n",
      "]\n"
     ]
    }
   ],
   "source": [
    "print(fips_str_df.to_json(orient=\"records\", indent=2))"
   ]
  },
  {
   "cell_type": "markdown",
   "id": "08e89886-6da3-402d-85fe-72a7bc935c24",
   "metadata": {},
   "source": [
    "# JSON to tabluar"
   ]
  },
  {
   "cell_type": "code",
   "execution_count": 62,
   "id": "96819827-e00a-488c-a166-5ab4065a988d",
   "metadata": {},
   "outputs": [],
   "source": [
    "import json"
   ]
  },
  {
   "cell_type": "code",
   "execution_count": 63,
   "id": "660c83d1-e0b5-4a7b-bb1e-f6ab90b575de",
   "metadata": {},
   "outputs": [],
   "source": [
    "with open(\"sample.json\") as f:\n",
    "    sample_json = json.load(f)"
   ]
  },
  {
   "cell_type": "code",
   "execution_count": 64,
   "id": "8ad127d8-b923-4edc-9229-0bd1864e69af",
   "metadata": {},
   "outputs": [
    {
     "data": {
      "text/plain": [
       "{'name': 'Alice Johnson',\n",
       " 'age': 28,\n",
       " 'isStudent': False,\n",
       " 'height': 5.6,\n",
       " 'address': {'street': '123 Main St',\n",
       "  'city': 'New York',\n",
       "  'zipCode': '10001',\n",
       "  'coordinates': {'latitude': 40.7128, 'longitude': -74.006}},\n",
       " 'hobbies': ['reading', 'cycling', 'photography'],\n",
       " 'favoriteColors': ['blue', 'green'],\n",
       " 'spouse': None,\n",
       " 'education': {'degree': 'Master of Science',\n",
       "  'field': 'Computer Science',\n",
       "  'university': 'MIT',\n",
       "  'graduationYear': 2020,\n",
       "  'gpa': 3.85},\n",
       " 'socialMedia': {'twitter': '@alice_codes',\n",
       "  'linkedin': 'linkedin.com/in/alicejohnson',\n",
       "  'github': 'alice-dev'},\n",
       " 'lastLogin': '2024-03-15T14:30:00Z',\n",
       " 'isActive': True}"
      ]
     },
     "execution_count": 64,
     "metadata": {},
     "output_type": "execute_result"
    }
   ],
   "source": [
    "sample_json"
   ]
  }
 ],
 "metadata": {
  "kernelspec": {
   "display_name": "Python 3 (ipykernel)",
   "language": "python",
   "name": "python3"
  },
  "language_info": {
   "codemirror_mode": {
    "name": "ipython",
    "version": 3
   },
   "file_extension": ".py",
   "mimetype": "text/x-python",
   "name": "python",
   "nbconvert_exporter": "python",
   "pygments_lexer": "ipython3",
   "version": "3.12.10"
  }
 },
 "nbformat": 4,
 "nbformat_minor": 5
}
