{
 "cells": [
  {
   "cell_type": "code",
   "execution_count": 2,
   "id": "02d71f68-cb5c-4d5c-a1fe-63e56fccc644",
   "metadata": {},
   "outputs": [],
   "source": [
    "import requests"
   ]
  },
  {
   "cell_type": "code",
   "execution_count": 4,
   "id": "714f277c-e0ad-45bb-87be-150d32e695b3",
   "metadata": {},
   "outputs": [],
   "source": [
    "api_url = \"https://a.4cdn.org/boards.json\""
   ]
  },
  {
   "cell_type": "code",
   "execution_count": 5,
   "id": "8b2e2394-c8ed-451c-a254-70284842b93a",
   "metadata": {},
   "outputs": [],
   "source": [
    "resp = requests.get(api_url)"
   ]
  },
  {
   "cell_type": "code",
   "execution_count": 8,
   "id": "e19350f5-5d9a-4ad3-9864-2f3fc4c47cd5",
   "metadata": {
    "scrolled": true
   },
   "outputs": [],
   "source": [
    "resp_json = resp.json()"
   ]
  },
  {
   "cell_type": "code",
   "execution_count": 15,
   "id": "13285989-804c-48c6-aa06-b1794ca52e24",
   "metadata": {},
   "outputs": [],
   "source": [
    "boards = resp_json['boards']"
   ]
  },
  {
   "cell_type": "code",
   "execution_count": 16,
   "id": "a56b3f56-ac21-44de-9d48-964c51cdfb84",
   "metadata": {},
   "outputs": [
    {
     "data": {
      "text/plain": [
       "78"
      ]
     },
     "execution_count": 16,
     "metadata": {},
     "output_type": "execute_result"
    }
   ],
   "source": [
    "len(boards)"
   ]
  },
  {
   "cell_type": "code",
   "execution_count": 19,
   "id": "9e4175b4-4d6d-4002-950b-f9db53a8c55a",
   "metadata": {},
   "outputs": [
    {
     "data": {
      "text/plain": [
       "{'board': '3',\n",
       " 'title': '3DCG',\n",
       " 'ws_board': 1,\n",
       " 'per_page': 15,\n",
       " 'pages': 10,\n",
       " 'max_filesize': 4194304,\n",
       " 'max_webm_filesize': 4194304,\n",
       " 'max_comment_chars': 2000,\n",
       " 'max_webm_duration': 120,\n",
       " 'bump_limit': 310,\n",
       " 'image_limit': 150,\n",
       " 'cooldowns': {'threads': 600, 'replies': 60, 'images': 60},\n",
       " 'meta_description': \"&quot;/3/ - 3DCG&quot; is 4chan's board for 3D modeling and imagery.\",\n",
       " 'is_archived': 1}"
      ]
     },
     "execution_count": 19,
     "metadata": {},
     "output_type": "execute_result"
    }
   ],
   "source": [
    "boards[0]"
   ]
  },
  {
   "cell_type": "code",
   "execution_count": 18,
   "id": "74cddfa5-83b6-4fa3-92da-ff764e6c2efe",
   "metadata": {},
   "outputs": [
    {
     "name": "stdout",
     "output_type": "stream",
     "text": [
      "3DCG\n",
      "Anime & Manga\n",
      "Adult Cartoons\n",
      "Advice\n",
      "Animals & Nature\n",
      "Random\n",
      "International/Random\n",
      "Business & Finance\n",
      "Anime/Cute\n",
      "Cosplay & EGL\n",
      "Food & Cooking\n",
      "Cute/Male\n",
      "Comics & Cartoons\n",
      "Hentai/Alternative\n",
      "Do It Yourself\n",
      "Ecchi\n",
      "Flash\n",
      "Fashion\n",
      "Fitness\n",
      "Technology\n",
      "Graphic Design\n",
      "Adult GIF\n",
      "Hentai\n",
      "Hardcore\n",
      "History & Humanities\n",
      "Handsome Men\n",
      "High Resolution\n",
      "Oekaki\n",
      "Artwork/Critique\n",
      "International\n",
      "Otaku Culture\n",
      "Weapons\n",
      "LGBT\n",
      "Literature\n",
      "Mecha\n",
      "Pony\n",
      "Music\n",
      "Transportation\n",
      "Current News\n",
      "Auto\n",
      "Outdoors\n",
      "Photography\n",
      "Papercraft & Origami\n",
      "Politically Incorrect\n",
      "Professional Wrestling\n",
      "Question & Answer\n",
      "Quests\n",
      "Adult Requests\n",
      "ROBOT9001\n",
      "Sexy Beautiful Women\n",
      "Shit 4chan Says\n",
      "Science & Math\n",
      "Cams & Meetups\n",
      "Sports\n",
      "Torrents\n",
      "Traditional Games\n",
      "Toys\n",
      "Off-Topic\n",
      "Travel\n",
      "Television & Film\n",
      "Yuri\n",
      "Video Games\n",
      "Video Game Generals\n",
      "Very Important Posts\n",
      "Video Games/Multiplayer\n",
      "Video Games/Mobile\n",
      "Pokémon\n",
      "Retro Games\n",
      "Video Games/RPG\n",
      "Video Games/Strategy\n",
      "Virtual YouTubers\n",
      "Anime/Wallpapers\n",
      "Wallpapers/General\n",
      "Worksafe GIF\n",
      "Worksafe Requests\n",
      "Paranormal\n",
      "Extreme Sports\n",
      "Yaoi\n"
     ]
    }
   ],
   "source": [
    "for board in boards:\n",
    "    print(board['title'])"
   ]
  }
 ],
 "metadata": {
  "kernelspec": {
   "display_name": "Python 3 (ipykernel)",
   "language": "python",
   "name": "python3"
  },
  "language_info": {
   "codemirror_mode": {
    "name": "ipython",
    "version": 3
   },
   "file_extension": ".py",
   "mimetype": "text/x-python",
   "name": "python",
   "nbconvert_exporter": "python",
   "pygments_lexer": "ipython3",
   "version": "3.12.10"
  }
 },
 "nbformat": 4,
 "nbformat_minor": 5
}
