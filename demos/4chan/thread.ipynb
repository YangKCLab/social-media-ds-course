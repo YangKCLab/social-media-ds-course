{
 "cells": [
  {
   "cell_type": "code",
   "execution_count": 1,
   "id": "13960729-a77a-42d1-befe-d25af13296b9",
   "metadata": {},
   "outputs": [],
   "source": [
    "import requests"
   ]
  },
  {
   "cell_type": "code",
   "execution_count": 2,
   "id": "9de4750b-5465-4c61-9d6f-3613ffc2f137",
   "metadata": {},
   "outputs": [],
   "source": [
    "api_url = \"https://a.4cdn.org/{board}/thread/{op_id}.json\""
   ]
  },
  {
   "cell_type": "code",
   "execution_count": 6,
   "id": "67d75b8d-1fa7-4262-af3d-4215005319bf",
   "metadata": {},
   "outputs": [],
   "source": [
    "resp = requests.get(\n",
    "    api_url.format(\n",
    "        board=\"g\",\n",
    "        op_id=\"105076684\"\n",
    "        )\n",
    ")"
   ]
  },
  {
   "cell_type": "code",
   "execution_count": 7,
   "id": "8c569612-8efe-4927-9884-77fc183bd7b1",
   "metadata": {},
   "outputs": [],
   "source": [
    "resp_json = resp.json()"
   ]
  },
  {
   "cell_type": "code",
   "execution_count": 17,
   "id": "89599910-b0f3-42bd-916d-f22208b0126f",
   "metadata": {},
   "outputs": [
    {
     "data": {
      "text/plain": [
       "[{'no': 105076684,\n",
       "  'sticky': 1,\n",
       "  'closed': 1,\n",
       "  'now': '04/25/25(Fri)16:24:10',\n",
       "  'name': 'Anonymous',\n",
       "  'com': 'This board is for the discussion of technology and related topics.<br>\\r\\n<br>\\r\\nReminder that instigating OR participating in flame/brand wars will result in a ban.<br>\\r\\nTech support threads should be posted to <a href=\"https://boards.4chan.org/wsr/\"><a href=\"//boards.4chan.org/wsr/\" class=\"quotelink\">&gt;&gt;&gt;/wsr/</a></a><br>\\r\\nCryptocurrency discussion belongs on <a href=\"https://boards.4chan.org/biz/\"><a href=\"//boards.4chan.org/biz/\" class=\"quotelink\">&gt;&gt;&gt;/biz/</a></a><br>\\r\\n<br>\\r\\nTo use the Code tag, book-end your body of code with: [code] and [/code]<br>\\r\\n<br>\\r\\nThe /g/ Wiki: <a href=\"https://igwiki.lyci.de/\">https://igwiki.lyci.de/</a>',\n",
       "  'filename': 'sticky btfo',\n",
       "  'ext': '.png',\n",
       "  'w': 535,\n",
       "  'h': 420,\n",
       "  'tn_w': 250,\n",
       "  'tn_h': 196,\n",
       "  'tim': 1745612650141704,\n",
       "  'time': 1745612650,\n",
       "  'md5': 'zuZHMJMYYp5WY7vM397nWQ==',\n",
       "  'fsize': 301273,\n",
       "  'resto': 0,\n",
       "  'capcode': 'mod',\n",
       "  'semantic_url': 'this-board-is-for-the-discussion-of-technology',\n",
       "  'replies': 3,\n",
       "  'images': 3},\n",
       " {'no': 105076685,\n",
       "  'now': '04/25/25(Fri)16:24:26',\n",
       "  'name': 'Anonymous',\n",
       "  'filename': 'TAD',\n",
       "  'ext': '.png',\n",
       "  'w': 450,\n",
       "  'h': 399,\n",
       "  'tn_w': 125,\n",
       "  'tn_h': 110,\n",
       "  'tim': 1745612666469146,\n",
       "  'time': 1745612666,\n",
       "  'md5': 'nZsaxy8KmwUS2+zdF2PULQ==',\n",
       "  'fsize': 228264,\n",
       "  'resto': 105076684,\n",
       "  'capcode': 'mod'},\n",
       " {'no': 105076689,\n",
       "  'now': '04/25/25(Fri)16:24:33',\n",
       "  'name': 'Anonymous',\n",
       "  'filename': 'SKM',\n",
       "  'ext': '.gif',\n",
       "  'w': 500,\n",
       "  'h': 491,\n",
       "  'tn_w': 125,\n",
       "  'tn_h': 122,\n",
       "  'tim': 1745612673804922,\n",
       "  'time': 1745612673,\n",
       "  'md5': '2kqH/ea790dPFkpWXaDtjw==',\n",
       "  'fsize': 352363,\n",
       "  'resto': 105076684,\n",
       "  'capcode': 'mod'},\n",
       " {'no': 105076692,\n",
       "  'now': '04/25/25(Fri)16:24:40',\n",
       "  'name': 'Anonymous',\n",
       "  'filename': 'RMS',\n",
       "  'ext': '.png',\n",
       "  'w': 450,\n",
       "  'h': 399,\n",
       "  'tn_w': 125,\n",
       "  'tn_h': 110,\n",
       "  'tim': 1745612680763609,\n",
       "  'time': 1745612680,\n",
       "  'md5': 'MWh/8IxI4GKjvV4QsmJGow==',\n",
       "  'fsize': 293402,\n",
       "  'resto': 105076684,\n",
       "  'capcode': 'mod'}]"
      ]
     },
     "execution_count": 17,
     "metadata": {},
     "output_type": "execute_result"
    }
   ],
   "source": [
    "resp_json['posts']"
   ]
  }
 ],
 "metadata": {
  "kernelspec": {
   "display_name": "Python 3 (ipykernel)",
   "language": "python",
   "name": "python3"
  },
  "language_info": {
   "codemirror_mode": {
    "name": "ipython",
    "version": 3
   },
   "file_extension": ".py",
   "mimetype": "text/x-python",
   "name": "python",
   "nbconvert_exporter": "python",
   "pygments_lexer": "ipython3",
   "version": "3.12.10"
  }
 },
 "nbformat": 4,
 "nbformat_minor": 5
}
