{
 "cells": [
  {
   "cell_type": "code",
   "execution_count": 1,
   "id": "c2a631c2-1c3f-47aa-9a24-0265e5efafbe",
   "metadata": {},
   "outputs": [
    {
     "data": {
      "text/plain": [
       "True"
      ]
     },
     "execution_count": 1,
     "metadata": {},
     "output_type": "execute_result"
    }
   ],
   "source": [
    "from atproto import Client\n",
    "from datetime import datetime, timedelta, timezone\n",
    "from dotenv import load_dotenv\n",
    "import os\n",
    "\n",
    "load_dotenv()"
   ]
  },
  {
   "cell_type": "code",
   "execution_count": 2,
   "id": "36f6b195-e307-4c7d-a281-ae846d6a5f6f",
   "metadata": {},
   "outputs": [],
   "source": [
    "client = Client()\n",
    "client.login(os.getenv(\"bluesky_username\"), os.getenv(\"bluesky_password\"));"
   ]
  },
  {
   "cell_type": "code",
   "execution_count": 3,
   "id": "4d16a003-082b-41f0-9e2d-ab8bdcea412c",
   "metadata": {},
   "outputs": [],
   "source": [
    "now = datetime.now(timezone.utc)\n",
    "one_day_ago = now - timedelta(days=1)\n",
    "iso_time_str = one_day_ago.isoformat().replace(\"+00:00\", \"Z\")"
   ]
  },
  {
   "cell_type": "code",
   "execution_count": 4,
   "id": "b0bf9aeb-1471-4008-949b-a095581b8da6",
   "metadata": {},
   "outputs": [
    {
     "data": {
      "text/plain": [
       "'2025-08-25T04:36:48.690807Z'"
      ]
     },
     "execution_count": 4,
     "metadata": {},
     "output_type": "execute_result"
    }
   ],
   "source": [
    "iso_time_str"
   ]
  },
  {
   "cell_type": "code",
   "execution_count": 5,
   "id": "2c44a2f3-edb3-4060-b7de-885dffccadaa",
   "metadata": {},
   "outputs": [],
   "source": [
    "params = {\n",
    "    \"q\": \"cat\",\n",
    "    \"limit\": 10,\n",
    "    \"since\": iso_time_str\n",
    "}"
   ]
  },
  {
   "cell_type": "code",
   "execution_count": 6,
   "id": "13c0069c-9a59-4936-aa87-2fe3fd6233b4",
   "metadata": {},
   "outputs": [],
   "source": [
    "resps = client.app.bsky.feed.search_posts(\n",
    "    params=params\n",
    ")"
   ]
  },
  {
   "cell_type": "code",
   "execution_count": 7,
   "id": "aa7e6d77-cf92-45d5-8ca2-bcc0211e635b",
   "metadata": {},
   "outputs": [],
   "source": [
    "posts = resps.model_dump()['posts']"
   ]
  },
  {
   "cell_type": "code",
   "execution_count": 8,
   "id": "2d80fe2d-7aea-45ea-bc4d-ac37d96ae18c",
   "metadata": {},
   "outputs": [
    {
     "data": {
      "text/plain": [
       "{'author': {'did': 'did:plc:aiac56z2itttgyxh5va6kfhv',\n",
       "  'handle': 'lostgoth.bsky.social',\n",
       "  'associated': {'activity_subscription': {'allow_subscriptions': 'followers',\n",
       "    'py_type': 'app.bsky.actor.defs#profileAssociatedActivitySubscription'},\n",
       "   'chat': {'allow_incoming': 'following',\n",
       "    'py_type': 'app.bsky.actor.defs#profileAssociatedChat'},\n",
       "   'feedgens': None,\n",
       "   'labeler': None,\n",
       "   'lists': None,\n",
       "   'starter_packs': None,\n",
       "   'py_type': 'app.bsky.actor.defs#profileAssociated'},\n",
       "  'avatar': 'https://cdn.bsky.app/img/avatar/plain/did:plc:aiac56z2itttgyxh5va6kfhv/bafkreigfq3uda22dk4n6fluegtdee5yy65kvjcptod4wrybxhpmkdhtpi4@jpeg',\n",
       "  'created_at': '2023-09-11T08:12:50.999Z',\n",
       "  'display_name': 'Andrea Lostgoth knits',\n",
       "  'labels': [],\n",
       "  'status': None,\n",
       "  'verification': None,\n",
       "  'viewer': {'activity_subscription': None,\n",
       "   'blocked_by': False,\n",
       "   'blocking': None,\n",
       "   'blocking_by_list': None,\n",
       "   'followed_by': None,\n",
       "   'following': None,\n",
       "   'known_followers': None,\n",
       "   'muted': False,\n",
       "   'muted_by_list': None,\n",
       "   'py_type': 'app.bsky.actor.defs#viewerState'},\n",
       "  'py_type': 'app.bsky.actor.defs#profileViewBasic'},\n",
       " 'cid': 'bafyreigqeovmxxcdvidjrnjskpj4stwudvqjfkvqeqr4hgsm4thawoyt7i',\n",
       " 'indexed_at': '2025-08-26T04:36:33.471Z',\n",
       " 'record': {'created_at': '2025-08-26T04:36:32.229Z',\n",
       "  'text': 'Cat they sleep most of the time so less hours awake to be an asshole in.',\n",
       "  'embed': None,\n",
       "  'entities': None,\n",
       "  'facets': None,\n",
       "  'labels': None,\n",
       "  'langs': ['en'],\n",
       "  'reply': {'parent': {'cid': 'bafyreibdahquwyhmr2jik2m5ryryscliolxt6xdqdnug556gujocnnfyiq',\n",
       "    'uri': 'at://did:plc:mgny2cunqa3zabb7mpe7djk3/app.bsky.feed.post/3lxavkariwc2j',\n",
       "    'py_type': 'com.atproto.repo.strongRef'},\n",
       "   'root': {'cid': 'bafyreibdahquwyhmr2jik2m5ryryscliolxt6xdqdnug556gujocnnfyiq',\n",
       "    'uri': 'at://did:plc:mgny2cunqa3zabb7mpe7djk3/app.bsky.feed.post/3lxavkariwc2j',\n",
       "    'py_type': 'com.atproto.repo.strongRef'},\n",
       "   'py_type': 'app.bsky.feed.post#replyRef'},\n",
       "  'tags': None,\n",
       "  'py_type': 'app.bsky.feed.post'},\n",
       " 'uri': 'at://did:plc:aiac56z2itttgyxh5va6kfhv/app.bsky.feed.post/3lxbovqn6oc2q',\n",
       " 'embed': None,\n",
       " 'labels': [],\n",
       " 'like_count': 0,\n",
       " 'quote_count': 0,\n",
       " 'reply_count': 0,\n",
       " 'repost_count': 0,\n",
       " 'threadgate': None,\n",
       " 'viewer': {'embedding_disabled': False,\n",
       "  'like': None,\n",
       "  'pinned': None,\n",
       "  'reply_disabled': True,\n",
       "  'repost': None,\n",
       "  'thread_muted': False,\n",
       "  'py_type': 'app.bsky.feed.defs#viewerState'},\n",
       " 'py_type': 'app.bsky.feed.defs#postView'}"
      ]
     },
     "execution_count": 8,
     "metadata": {},
     "output_type": "execute_result"
    }
   ],
   "source": [
    "posts[0]"
   ]
  },
  {
   "cell_type": "code",
   "execution_count": null,
   "id": "715f4fd1-d594-4da8-9328-f50008438c04",
   "metadata": {},
   "outputs": [],
   "source": []
  }
 ],
 "metadata": {
  "kernelspec": {
   "display_name": "Python 3 (ipykernel)",
   "language": "python",
   "name": "python3"
  },
  "language_info": {
   "codemirror_mode": {
    "name": "ipython",
    "version": 3
   },
   "file_extension": ".py",
   "mimetype": "text/x-python",
   "name": "python",
   "nbconvert_exporter": "python",
   "pygments_lexer": "ipython3",
   "version": "3.12.10"
  }
 },
 "nbformat": 4,
 "nbformat_minor": 5
}
