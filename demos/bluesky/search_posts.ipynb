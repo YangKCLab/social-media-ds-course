{
 "cells": [
  {
   "cell_type": "code",
   "execution_count": 1,
   "id": "c2a631c2-1c3f-47aa-9a24-0265e5efafbe",
   "metadata": {},
   "outputs": [
    {
     "data": {
      "text/plain": [
       "True"
      ]
     },
     "execution_count": 1,
     "metadata": {},
     "output_type": "execute_result"
    }
   ],
   "source": [
    "from atproto import Client\n",
    "from datetime import datetime, timedelta, timezone\n",
    "from dotenv import load_dotenv\n",
    "import os\n",
    "\n",
    "load_dotenv()"
   ]
  },
  {
   "cell_type": "code",
   "execution_count": 2,
   "id": "36f6b195-e307-4c7d-a281-ae846d6a5f6f",
   "metadata": {},
   "outputs": [],
   "source": [
    "client = Client()\n",
    "client.login(os.getenv(\"bluesky_username\"), os.getenv(\"bluesky_password\"));"
   ]
  },
  {
   "cell_type": "code",
   "execution_count": 3,
   "id": "4d16a003-082b-41f0-9e2d-ab8bdcea412c",
   "metadata": {},
   "outputs": [],
   "source": [
    "now = datetime.now(timezone.utc)\n",
    "one_day_ago = now - timedelta(days=1)\n",
    "iso_time_str = one_day_ago.isoformat().replace(\"+00:00\", \"Z\")"
   ]
  },
  {
   "cell_type": "code",
   "execution_count": 4,
   "id": "b0bf9aeb-1471-4008-949b-a095581b8da6",
   "metadata": {},
   "outputs": [
    {
     "data": {
      "text/plain": [
       "'2025-08-27T01:52:51.410277Z'"
      ]
     },
     "execution_count": 4,
     "metadata": {},
     "output_type": "execute_result"
    }
   ],
   "source": [
    "iso_time_str"
   ]
  },
  {
   "cell_type": "code",
   "execution_count": 5,
   "id": "2c44a2f3-edb3-4060-b7de-885dffccadaa",
   "metadata": {},
   "outputs": [],
   "source": [
    "params = {\n",
    "    \"q\": \"cat\",\n",
    "    \"limit\": 10,\n",
    "    \"since\": iso_time_str\n",
    "}"
   ]
  },
  {
   "cell_type": "code",
   "execution_count": 6,
   "id": "13c0069c-9a59-4936-aa87-2fe3fd6233b4",
   "metadata": {},
   "outputs": [],
   "source": [
    "resps = client.app.bsky.feed.search_posts(\n",
    "    params=params\n",
    ")"
   ]
  },
  {
   "cell_type": "code",
   "execution_count": 8,
   "id": "af60d16c-8471-45a5-b505-74ab3d38ee50",
   "metadata": {},
   "outputs": [],
   "source": [
    "resps_dict = resps.model_dump()"
   ]
  },
  {
   "cell_type": "code",
   "execution_count": 9,
   "id": "aa7e6d77-cf92-45d5-8ca2-bcc0211e635b",
   "metadata": {},
   "outputs": [],
   "source": [
    "posts = resps_dict['posts']"
   ]
  },
  {
   "cell_type": "code",
   "execution_count": 10,
   "id": "2d80fe2d-7aea-45ea-bc4d-ac37d96ae18c",
   "metadata": {},
   "outputs": [
    {
     "data": {
      "text/plain": [
       "{'author': {'did': 'did:plc:zbgjne7n5bc7kg7unf5p6gfn',\n",
       "  'handle': 'justjaimii.bsky.social',\n",
       "  'associated': {'activity_subscription': {'allow_subscriptions': 'followers',\n",
       "    'py_type': 'app.bsky.actor.defs#profileAssociatedActivitySubscription'},\n",
       "   'chat': None,\n",
       "   'feedgens': None,\n",
       "   'labeler': None,\n",
       "   'lists': None,\n",
       "   'starter_packs': None,\n",
       "   'py_type': 'app.bsky.actor.defs#profileAssociated'},\n",
       "  'avatar': 'https://cdn.bsky.app/img/avatar/plain/did:plc:zbgjne7n5bc7kg7unf5p6gfn/bafkreihvzusenel3z7sek4u4apomu7fkvbaadylqesxa463fnxcc6swlp4@jpeg',\n",
       "  'created_at': '2023-12-25T05:38:35.649Z',\n",
       "  'display_name': 'justjaimii 🔱',\n",
       "  'labels': [],\n",
       "  'status': None,\n",
       "  'verification': None,\n",
       "  'viewer': {'activity_subscription': None,\n",
       "   'blocked_by': False,\n",
       "   'blocking': None,\n",
       "   'blocking_by_list': None,\n",
       "   'followed_by': None,\n",
       "   'following': None,\n",
       "   'known_followers': None,\n",
       "   'muted': False,\n",
       "   'muted_by_list': None,\n",
       "   'py_type': 'app.bsky.actor.defs#viewerState'},\n",
       "  'py_type': 'app.bsky.actor.defs#profileViewBasic'},\n",
       " 'cid': 'bafyreiho5rlyujjdo73lnq73aopbdlzir532eeamv3dqhadjxywy4klbhu',\n",
       " 'indexed_at': '2025-08-28T01:52:36.068Z',\n",
       " 'record': {'created_at': '2025-08-28T01:52:25.598Z',\n",
       "  'text': 'imagine waking up to your cat like this',\n",
       "  'embed': {'images': [{'alt': '',\n",
       "     'image': {'mime_type': 'image/jpeg',\n",
       "      'size': 997562,\n",
       "      'ref': {'link': 'bafkreifdvv2y7dkmdgh4q7l43dxzcetuqjmqbt6xlcvw5vtif2te3h76yq'},\n",
       "      'py_type': 'blob'},\n",
       "     'aspect_ratio': {'height': 2000,\n",
       "      'width': 1500,\n",
       "      'py_type': 'app.bsky.embed.defs#aspectRatio'},\n",
       "     'py_type': 'app.bsky.embed.images#image'}],\n",
       "   'py_type': 'app.bsky.embed.images'},\n",
       "  'entities': None,\n",
       "  'facets': None,\n",
       "  'labels': None,\n",
       "  'langs': ['en'],\n",
       "  'reply': None,\n",
       "  'tags': None,\n",
       "  'py_type': 'app.bsky.feed.post'},\n",
       " 'uri': 'at://did:plc:zbgjne7n5bc7kg7unf5p6gfn/app.bsky.feed.post/3lxggo53tpk2q',\n",
       " 'embed': {'images': [{'alt': '',\n",
       "    'fullsize': 'https://cdn.bsky.app/img/feed_fullsize/plain/did:plc:zbgjne7n5bc7kg7unf5p6gfn/bafkreifdvv2y7dkmdgh4q7l43dxzcetuqjmqbt6xlcvw5vtif2te3h76yq@jpeg',\n",
       "    'thumb': 'https://cdn.bsky.app/img/feed_thumbnail/plain/did:plc:zbgjne7n5bc7kg7unf5p6gfn/bafkreifdvv2y7dkmdgh4q7l43dxzcetuqjmqbt6xlcvw5vtif2te3h76yq@jpeg',\n",
       "    'aspect_ratio': {'height': 2000,\n",
       "     'width': 1500,\n",
       "     'py_type': 'app.bsky.embed.defs#aspectRatio'},\n",
       "    'py_type': 'app.bsky.embed.images#viewImage'}],\n",
       "  'py_type': 'app.bsky.embed.images#view'},\n",
       " 'labels': [],\n",
       " 'like_count': 0,\n",
       " 'quote_count': 0,\n",
       " 'reply_count': 0,\n",
       " 'repost_count': 0,\n",
       " 'threadgate': None,\n",
       " 'viewer': {'embedding_disabled': False,\n",
       "  'like': None,\n",
       "  'pinned': None,\n",
       "  'reply_disabled': None,\n",
       "  'repost': None,\n",
       "  'thread_muted': False,\n",
       "  'py_type': 'app.bsky.feed.defs#viewerState'},\n",
       " 'py_type': 'app.bsky.feed.defs#postView'}"
      ]
     },
     "execution_count": 10,
     "metadata": {},
     "output_type": "execute_result"
    }
   ],
   "source": [
    "posts[0]"
   ]
  },
  {
   "cell_type": "code",
   "execution_count": 13,
   "id": "ac0b99ac-7bb5-4627-88b2-5bc582e7b442",
   "metadata": {},
   "outputs": [
    {
     "data": {
      "text/plain": [
       "'10'"
      ]
     },
     "execution_count": 13,
     "metadata": {},
     "output_type": "execute_result"
    }
   ],
   "source": [
    "resps_dict['cursor']"
   ]
  },
  {
   "cell_type": "code",
   "execution_count": 14,
   "id": "78d6eee4-fa6d-46b7-bafb-5a691efedc88",
   "metadata": {},
   "outputs": [],
   "source": [
    "params['cursor'] = resps_dict['cursor']"
   ]
  },
  {
   "cell_type": "code",
   "execution_count": 15,
   "id": "715f4fd1-d594-4da8-9328-f50008438c04",
   "metadata": {},
   "outputs": [],
   "source": [
    "resps_1 = client.app.bsky.feed.search_posts(\n",
    "    params=params,\n",
    ")"
   ]
  },
  {
   "cell_type": "code",
   "execution_count": 16,
   "id": "6b9d11dc-985f-4902-ad3c-cca3f7cf3895",
   "metadata": {},
   "outputs": [],
   "source": [
    "resps_dict_1 = resps_1.model_dump()"
   ]
  },
  {
   "cell_type": "code",
   "execution_count": 17,
   "id": "0225f0e5-a52b-4b00-9d5e-0f4a5342a3f1",
   "metadata": {},
   "outputs": [
    {
     "data": {
      "text/plain": [
       "'20'"
      ]
     },
     "execution_count": 17,
     "metadata": {},
     "output_type": "execute_result"
    }
   ],
   "source": [
    "resps_dict_1['cursor']"
   ]
  }
 ],
 "metadata": {
  "kernelspec": {
   "display_name": "Python 3 (ipykernel)",
   "language": "python",
   "name": "python3"
  },
  "language_info": {
   "codemirror_mode": {
    "name": "ipython",
    "version": 3
   },
   "file_extension": ".py",
   "mimetype": "text/x-python",
   "name": "python",
   "nbconvert_exporter": "python",
   "pygments_lexer": "ipython3",
   "version": "3.12.10"
  }
 },
 "nbformat": 4,
 "nbformat_minor": 5
}
