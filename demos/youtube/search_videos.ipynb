{
 "cells": [
  {
   "cell_type": "code",
   "execution_count": 1,
   "id": "4cc1a872-35f1-4391-8a84-42e905951676",
   "metadata": {},
   "outputs": [
    {
     "data": {
      "text/plain": [
       "True"
      ]
     },
     "execution_count": 1,
     "metadata": {},
     "output_type": "execute_result"
    }
   ],
   "source": [
    "import os \n",
    "\n",
    "from googleapiclient.discovery import build\n",
    "from googleapiclient.errors import HttpError\n",
    "from dotenv import load_dotenv\n",
    "\n",
    "load_dotenv()"
   ]
  },
  {
   "cell_type": "code",
   "execution_count": 2,
   "id": "38d27e0e-be2d-432b-8467-221916a0036d",
   "metadata": {},
   "outputs": [],
   "source": [
    "youtube_api_key = os.getenv(\"YOUTUBE_API_KEY\")\n",
    "youtube = build(\"youtube\", \"v3\", developerKey=youtube_api_key)"
   ]
  },
  {
   "cell_type": "code",
   "execution_count": 3,
   "id": "6743c6f7-7fa5-41b2-9ba7-0e29686779b0",
   "metadata": {},
   "outputs": [],
   "source": [
    "request = youtube.search().list(\n",
    "        part=\"snippet\",\n",
    "        maxResults=25,\n",
    "        q=\"cat\",\n",
    "        publishedAfter=\"2025-09-05T00:00:00Z\"\n",
    "    )\n",
    "response = request.execute()"
   ]
  },
  {
   "cell_type": "code",
   "execution_count": 4,
   "id": "7e1bdf01-4385-4790-9ad0-78d5f227fcb8",
   "metadata": {},
   "outputs": [
    {
     "data": {
      "text/plain": [
       "dict"
      ]
     },
     "execution_count": 4,
     "metadata": {},
     "output_type": "execute_result"
    }
   ],
   "source": [
    "type(response)"
   ]
  },
  {
   "cell_type": "code",
   "execution_count": 5,
   "id": "39c6232f-958b-4528-8f9b-177f0fd6ebff",
   "metadata": {},
   "outputs": [
    {
     "data": {
      "text/plain": [
       "dict_keys(['kind', 'etag', 'nextPageToken', 'regionCode', 'pageInfo', 'items'])"
      ]
     },
     "execution_count": 5,
     "metadata": {},
     "output_type": "execute_result"
    }
   ],
   "source": [
    "response.keys()"
   ]
  },
  {
   "cell_type": "code",
   "execution_count": 6,
   "id": "d1eb9804-c41e-4128-bc26-ee4e80c1867e",
   "metadata": {},
   "outputs": [
    {
     "data": {
      "text/plain": [
       "'CBkQAA'"
      ]
     },
     "execution_count": 6,
     "metadata": {},
     "output_type": "execute_result"
    }
   ],
   "source": [
    "response['nextPageToken']"
   ]
  },
  {
   "cell_type": "code",
   "execution_count": 7,
   "id": "fbee5934-18d8-47d9-bf38-724358e569c0",
   "metadata": {},
   "outputs": [
    {
     "data": {
      "text/plain": [
       "{'totalResults': 843269, 'resultsPerPage': 25}"
      ]
     },
     "execution_count": 7,
     "metadata": {},
     "output_type": "execute_result"
    }
   ],
   "source": [
    "response['pageInfo']"
   ]
  },
  {
   "cell_type": "code",
   "execution_count": 8,
   "id": "759586c6-326e-4316-b1ec-b6b4e1bec3fd",
   "metadata": {},
   "outputs": [
    {
     "data": {
      "text/plain": [
       "{'kind': 'youtube#searchResult',\n",
       " 'etag': 'uB7igBGWEXBk1NY9T9ZrFUofBkQ',\n",
       " 'id': {'kind': 'youtube#video', 'videoId': 'aM5Zlq0bPKY'},\n",
       " 'snippet': {'publishedAt': '2025-09-06T08:19:24Z',\n",
       "  'channelId': 'UC7wafFu5c8AO0YF5U7R7xFA',\n",
       "  'title': '🔴 24/7 LIVE: Cat TV for Cats to Watch 😺 Cute Birds Squirrels Cat Games 4K',\n",
       "  'description': 'Non-stop HDR live streaming for cats, dogs, parrots, or other nature lovers. Relaxing your pets can help minimize separation ...',\n",
       "  'thumbnails': {'default': {'url': 'https://i.ytimg.com/vi/aM5Zlq0bPKY/default_live.jpg',\n",
       "    'width': 120,\n",
       "    'height': 90},\n",
       "   'medium': {'url': 'https://i.ytimg.com/vi/aM5Zlq0bPKY/mqdefault_live.jpg',\n",
       "    'width': 320,\n",
       "    'height': 180},\n",
       "   'high': {'url': 'https://i.ytimg.com/vi/aM5Zlq0bPKY/hqdefault_live.jpg',\n",
       "    'width': 480,\n",
       "    'height': 360}},\n",
       "  'channelTitle': 'Birder King',\n",
       "  'liveBroadcastContent': 'live',\n",
       "  'publishTime': '2025-09-06T08:19:24Z'}}"
      ]
     },
     "execution_count": 8,
     "metadata": {},
     "output_type": "execute_result"
    }
   ],
   "source": [
    "response['items'][0]"
   ]
  },
  {
   "cell_type": "code",
   "execution_count": null,
   "id": "9797a19d-7bd6-47f4-9972-9c390345d494",
   "metadata": {},
   "outputs": [],
   "source": []
  }
 ],
 "metadata": {
  "kernelspec": {
   "display_name": "Python 3 (ipykernel)",
   "language": "python",
   "name": "python3"
  },
  "language_info": {
   "codemirror_mode": {
    "name": "ipython",
    "version": 3
   },
   "file_extension": ".py",
   "mimetype": "text/x-python",
   "name": "python",
   "nbconvert_exporter": "python",
   "pygments_lexer": "ipython3",
   "version": "3.12.10"
  }
 },
 "nbformat": 4,
 "nbformat_minor": 5
}
