{
 "cells": [
  {
   "cell_type": "code",
   "execution_count": 1,
   "id": "ea2bb4f1-26d9-472b-a113-25b6c036bf79",
   "metadata": {},
   "outputs": [
    {
     "data": {
      "text/plain": [
       "True"
      ]
     },
     "execution_count": 1,
     "metadata": {},
     "output_type": "execute_result"
    }
   ],
   "source": [
    "import os \n",
    "\n",
    "from googleapiclient.discovery import build\n",
    "from googleapiclient.errors import HttpError\n",
    "from dotenv import load_dotenv\n",
    "\n",
    "load_dotenv()"
   ]
  },
  {
   "cell_type": "code",
   "execution_count": 2,
   "id": "7cdeff45-d41c-4912-80dd-925e4f7e7fc8",
   "metadata": {},
   "outputs": [],
   "source": [
    "youtube_api_key = os.getenv(\"YOUTUBE_API_KEY\")\n",
    "youtube = build(\"youtube\", \"v3\", developerKey=youtube_api_key)"
   ]
  },
  {
   "cell_type": "code",
   "execution_count": 3,
   "id": "9a528406-ba52-4300-823b-f11cd3106c6a",
   "metadata": {},
   "outputs": [],
   "source": [
    "request = youtube.channels().list(\n",
    "        part=\"contentDetails,id,localizations,snippet,statistics,status,topicDetails\",\n",
    "        forHandle=\"MissingSemester\"\n",
    "    )\n",
    "response = request.execute()"
   ]
  },
  {
   "cell_type": "code",
   "execution_count": 4,
   "id": "87b00743-800b-496c-baa5-2b680f815750",
   "metadata": {},
   "outputs": [
    {
     "data": {
      "text/plain": [
       "dict_keys(['kind', 'etag', 'pageInfo', 'items'])"
      ]
     },
     "execution_count": 4,
     "metadata": {},
     "output_type": "execute_result"
    }
   ],
   "source": [
    "response.keys()"
   ]
  },
  {
   "cell_type": "code",
   "execution_count": 5,
   "id": "fa3eeab2-cff6-4233-8b0a-2cb0d618093e",
   "metadata": {},
   "outputs": [
    {
     "data": {
      "text/plain": [
       "{'kind': 'youtube#channel',\n",
       " 'etag': 'jh1zso5AMTFvHlLxB_6C90AjP3Y',\n",
       " 'id': 'UCuXy5tCgEninup9cGplbiFw',\n",
       " 'snippet': {'title': 'Missing Semester',\n",
       "  'description': 'Classes teach you all about advanced topics within CS, from operating systems to machine learning, but there’s one critical subject that’s rarely covered, and is instead left to students to figure out on their own: proficiency with their tools. We’ll teach you how to master the command-line, use a powerful text editor, use fancy features of version control systems, and much more!\\n\\nStudents spend hundreds of hours using these tools over the course of their education (and thousands over their career), so it makes sense to make the experience as fluid and frictionless as possible. Mastering these tools not only enables you to spend less time on figuring out how to bend your tools to your will, but it also lets you solve problems that would previously seem impossibly complex.\\n\\nRead about the motivation behind this class at https://missing.csail.mit.edu/about/.',\n",
       "  'customUrl': '@missingsemester',\n",
       "  'publishedAt': '2019-01-29T03:39:58Z',\n",
       "  'thumbnails': {'default': {'url': 'https://yt3.ggpht.com/ytc/AIdro_msRZQBf5kLdrW-PHW_5gCeBVcs9e2gf5EaZIDkdivYMg=s88-c-k-c0x00ffffff-no-rj',\n",
       "    'width': 88,\n",
       "    'height': 88},\n",
       "   'medium': {'url': 'https://yt3.ggpht.com/ytc/AIdro_msRZQBf5kLdrW-PHW_5gCeBVcs9e2gf5EaZIDkdivYMg=s240-c-k-c0x00ffffff-no-rj',\n",
       "    'width': 240,\n",
       "    'height': 240},\n",
       "   'high': {'url': 'https://yt3.ggpht.com/ytc/AIdro_msRZQBf5kLdrW-PHW_5gCeBVcs9e2gf5EaZIDkdivYMg=s800-c-k-c0x00ffffff-no-rj',\n",
       "    'width': 800,\n",
       "    'height': 800}},\n",
       "  'localized': {'title': 'Missing Semester',\n",
       "   'description': 'Classes teach you all about advanced topics within CS, from operating systems to machine learning, but there’s one critical subject that’s rarely covered, and is instead left to students to figure out on their own: proficiency with their tools. We’ll teach you how to master the command-line, use a powerful text editor, use fancy features of version control systems, and much more!\\n\\nStudents spend hundreds of hours using these tools over the course of their education (and thousands over their career), so it makes sense to make the experience as fluid and frictionless as possible. Mastering these tools not only enables you to spend less time on figuring out how to bend your tools to your will, but it also lets you solve problems that would previously seem impossibly complex.\\n\\nRead about the motivation behind this class at https://missing.csail.mit.edu/about/.'},\n",
       "  'country': 'US'},\n",
       " 'contentDetails': {'relatedPlaylists': {'likes': '',\n",
       "   'uploads': 'UUuXy5tCgEninup9cGplbiFw'}},\n",
       " 'statistics': {'viewCount': '3150901',\n",
       "  'subscriberCount': '100000',\n",
       "  'hiddenSubscriberCount': False,\n",
       "  'videoCount': '29'},\n",
       " 'topicDetails': {'topicIds': ['/m/07c1v', '/m/01k8wb', '/m/019_rr'],\n",
       "  'topicCategories': ['https://en.wikipedia.org/wiki/Technology',\n",
       "   'https://en.wikipedia.org/wiki/Knowledge',\n",
       "   'https://en.wikipedia.org/wiki/Lifestyle_(sociology)']},\n",
       " 'status': {'privacyStatus': 'public',\n",
       "  'isLinked': True,\n",
       "  'longUploadsStatus': 'longUploadsUnspecified',\n",
       "  'madeForKids': False}}"
      ]
     },
     "execution_count": 5,
     "metadata": {},
     "output_type": "execute_result"
    }
   ],
   "source": [
    "response['items'][0]"
   ]
  },
  {
   "cell_type": "code",
   "execution_count": null,
   "id": "aaab3c3e-c451-4a40-9fb4-66cc9e26fa26",
   "metadata": {},
   "outputs": [],
   "source": []
  }
 ],
 "metadata": {
  "kernelspec": {
   "display_name": "Python 3 (ipykernel)",
   "language": "python",
   "name": "python3"
  },
  "language_info": {
   "codemirror_mode": {
    "name": "ipython",
    "version": 3
   },
   "file_extension": ".py",
   "mimetype": "text/x-python",
   "name": "python",
   "nbconvert_exporter": "python",
   "pygments_lexer": "ipython3",
   "version": "3.12.10"
  }
 },
 "nbformat": 4,
 "nbformat_minor": 5
}
