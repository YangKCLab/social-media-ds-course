{
 "cells": [
  {
   "cell_type": "code",
   "execution_count": 1,
   "id": "ea2bb4f1-26d9-472b-a113-25b6c036bf79",
   "metadata": {},
   "outputs": [
    {
     "data": {
      "text/plain": [
       "True"
      ]
     },
     "execution_count": 1,
     "metadata": {},
     "output_type": "execute_result"
    }
   ],
   "source": [
    "import os \n",
    "\n",
    "from googleapiclient.discovery import build\n",
    "from googleapiclient.errors import HttpError\n",
    "from dotenv import load_dotenv\n",
    "\n",
    "load_dotenv()"
   ]
  },
  {
   "cell_type": "code",
   "execution_count": 2,
   "id": "7cdeff45-d41c-4912-80dd-925e4f7e7fc8",
   "metadata": {},
   "outputs": [],
   "source": [
    "youtube_api_key = os.getenv(\"YOUTUBE_API_KEY\")\n",
    "youtube = build(\"youtube\", \"v3\", developerKey=youtube_api_key)"
   ]
  },
  {
   "cell_type": "code",
   "execution_count": 3,
   "id": "9a528406-ba52-4300-823b-f11cd3106c6a",
   "metadata": {},
   "outputs": [],
   "source": [
    "request = youtube.videos().list(\n",
    "        part=\"snippet,statistics,contentDetails,status\",\n",
    "        id=\"Z56Jmr9Z34Q,kgII-YWo3Zw\",\n",
    "        maxResults=25,\n",
    "    )\n",
    "response = request.execute()"
   ]
  },
  {
   "cell_type": "code",
   "execution_count": 4,
   "id": "87b00743-800b-496c-baa5-2b680f815750",
   "metadata": {},
   "outputs": [
    {
     "data": {
      "text/plain": [
       "dict_keys(['kind', 'etag', 'items', 'pageInfo'])"
      ]
     },
     "execution_count": 4,
     "metadata": {},
     "output_type": "execute_result"
    }
   ],
   "source": [
    "response.keys()"
   ]
  },
  {
   "cell_type": "code",
   "execution_count": 5,
   "id": "714bbf53-4c4b-426a-a64b-cce222590eab",
   "metadata": {},
   "outputs": [
    {
     "data": {
      "text/plain": [
       "{'totalResults': 2, 'resultsPerPage': 2}"
      ]
     },
     "execution_count": 5,
     "metadata": {},
     "output_type": "execute_result"
    }
   ],
   "source": [
    "response['pageInfo']"
   ]
  },
  {
   "cell_type": "code",
   "execution_count": 6,
   "id": "fa3eeab2-cff6-4233-8b0a-2cb0d618093e",
   "metadata": {},
   "outputs": [
    {
     "data": {
      "text/plain": [
       "[{'kind': 'youtube#video',\n",
       "  'etag': '6OhYn0DVm5mVkSgrv1aqQ_Y-Z2M',\n",
       "  'id': 'Z56Jmr9Z34Q',\n",
       "  'snippet': {'publishedAt': '2020-02-02T03:40:08Z',\n",
       "   'channelId': 'UCuXy5tCgEninup9cGplbiFw',\n",
       "   'title': 'Lecture 1: Course Overview + The Shell (2020)',\n",
       "   'description': 'You can find the lecture notes and exercises for this lecture at https://missing.csail.mit.edu/2020/course-shell/\\n\\nHelp us caption & translate this video!\\n\\nhttps://amara.org/v/C1Efe/',\n",
       "   'thumbnails': {'default': {'url': 'https://i.ytimg.com/vi/Z56Jmr9Z34Q/default.jpg',\n",
       "     'width': 120,\n",
       "     'height': 90},\n",
       "    'medium': {'url': 'https://i.ytimg.com/vi/Z56Jmr9Z34Q/mqdefault.jpg',\n",
       "     'width': 320,\n",
       "     'height': 180},\n",
       "    'high': {'url': 'https://i.ytimg.com/vi/Z56Jmr9Z34Q/hqdefault.jpg',\n",
       "     'width': 480,\n",
       "     'height': 360},\n",
       "    'standard': {'url': 'https://i.ytimg.com/vi/Z56Jmr9Z34Q/sddefault.jpg',\n",
       "     'width': 640,\n",
       "     'height': 480},\n",
       "    'maxres': {'url': 'https://i.ytimg.com/vi/Z56Jmr9Z34Q/maxresdefault.jpg',\n",
       "     'width': 1280,\n",
       "     'height': 720}},\n",
       "   'channelTitle': 'Missing Semester',\n",
       "   'tags': ['mit',\n",
       "    'lecture',\n",
       "    'tools',\n",
       "    'command-line',\n",
       "    'shell',\n",
       "    'unix',\n",
       "    'linux'],\n",
       "   'categoryId': '28',\n",
       "   'liveBroadcastContent': 'none',\n",
       "   'defaultLanguage': 'en',\n",
       "   'localized': {'title': 'Lecture 1: Course Overview + The Shell (2020)',\n",
       "    'description': 'You can find the lecture notes and exercises for this lecture at https://missing.csail.mit.edu/2020/course-shell/\\n\\nHelp us caption & translate this video!\\n\\nhttps://amara.org/v/C1Efe/'},\n",
       "   'defaultAudioLanguage': 'en'},\n",
       "  'contentDetails': {'duration': 'PT48M17S',\n",
       "   'dimension': '2d',\n",
       "   'definition': 'hd',\n",
       "   'caption': 'true',\n",
       "   'licensedContent': False,\n",
       "   'contentRating': {},\n",
       "   'projection': 'rectangular'},\n",
       "  'status': {'uploadStatus': 'processed',\n",
       "   'privacyStatus': 'public',\n",
       "   'license': 'creativeCommon',\n",
       "   'embeddable': True,\n",
       "   'publicStatsViewable': True,\n",
       "   'madeForKids': False},\n",
       "  'statistics': {'viewCount': '826950',\n",
       "   'likeCount': '13883',\n",
       "   'favoriteCount': '0',\n",
       "   'commentCount': '398'}},\n",
       " {'kind': 'youtube#video',\n",
       "  'etag': 'S4-Qp0ccL3TBLVn-lc3OA0YdlmM',\n",
       "  'id': 'kgII-YWo3Zw',\n",
       "  'snippet': {'publishedAt': '2020-02-02T03:40:34Z',\n",
       "   'channelId': 'UCuXy5tCgEninup9cGplbiFw',\n",
       "   'title': 'Lecture 2: Shell Tools and Scripting (2020)',\n",
       "   'description': 'You can find the lecture notes and exercises for this lecture at https://missing.csail.mit.edu/2020/shell-tools/\\n\\nHelp us caption & translate this video!\\n\\nhttps://amara.org/v/C1Efd/',\n",
       "   'thumbnails': {'default': {'url': 'https://i.ytimg.com/vi/kgII-YWo3Zw/default.jpg',\n",
       "     'width': 120,\n",
       "     'height': 90},\n",
       "    'medium': {'url': 'https://i.ytimg.com/vi/kgII-YWo3Zw/mqdefault.jpg',\n",
       "     'width': 320,\n",
       "     'height': 180},\n",
       "    'high': {'url': 'https://i.ytimg.com/vi/kgII-YWo3Zw/hqdefault.jpg',\n",
       "     'width': 480,\n",
       "     'height': 360},\n",
       "    'standard': {'url': 'https://i.ytimg.com/vi/kgII-YWo3Zw/sddefault.jpg',\n",
       "     'width': 640,\n",
       "     'height': 480},\n",
       "    'maxres': {'url': 'https://i.ytimg.com/vi/kgII-YWo3Zw/maxresdefault.jpg',\n",
       "     'width': 1280,\n",
       "     'height': 720}},\n",
       "   'channelTitle': 'Missing Semester',\n",
       "   'tags': ['mit',\n",
       "    'lecture',\n",
       "    'tools',\n",
       "    'command-line',\n",
       "    'shell',\n",
       "    'bash',\n",
       "    'linux',\n",
       "    'scripting'],\n",
       "   'categoryId': '28',\n",
       "   'liveBroadcastContent': 'none',\n",
       "   'defaultLanguage': 'en',\n",
       "   'localized': {'title': 'Lecture 2: Shell Tools and Scripting (2020)',\n",
       "    'description': 'You can find the lecture notes and exercises for this lecture at https://missing.csail.mit.edu/2020/shell-tools/\\n\\nHelp us caption & translate this video!\\n\\nhttps://amara.org/v/C1Efd/'},\n",
       "   'defaultAudioLanguage': 'en'},\n",
       "  'contentDetails': {'duration': 'PT48M56S',\n",
       "   'dimension': '2d',\n",
       "   'definition': 'hd',\n",
       "   'caption': 'true',\n",
       "   'licensedContent': False,\n",
       "   'contentRating': {},\n",
       "   'projection': 'rectangular'},\n",
       "  'status': {'uploadStatus': 'processed',\n",
       "   'privacyStatus': 'public',\n",
       "   'license': 'creativeCommon',\n",
       "   'embeddable': True,\n",
       "   'publicStatsViewable': True,\n",
       "   'madeForKids': False},\n",
       "  'statistics': {'viewCount': '332319',\n",
       "   'likeCount': '3152',\n",
       "   'favoriteCount': '0',\n",
       "   'commentCount': '254'}}]"
      ]
     },
     "execution_count": 6,
     "metadata": {},
     "output_type": "execute_result"
    }
   ],
   "source": [
    "response['items']"
   ]
  },
  {
   "cell_type": "code",
   "execution_count": null,
   "id": "aaab3c3e-c451-4a40-9fb4-66cc9e26fa26",
   "metadata": {},
   "outputs": [],
   "source": []
  }
 ],
 "metadata": {
  "kernelspec": {
   "display_name": "Python 3 (ipykernel)",
   "language": "python",
   "name": "python3"
  },
  "language_info": {
   "codemirror_mode": {
    "name": "ipython",
    "version": 3
   },
   "file_extension": ".py",
   "mimetype": "text/x-python",
   "name": "python",
   "nbconvert_exporter": "python",
   "pygments_lexer": "ipython3",
   "version": "3.12.10"
  }
 },
 "nbformat": 4,
 "nbformat_minor": 5
}
